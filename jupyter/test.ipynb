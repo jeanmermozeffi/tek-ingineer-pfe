{
 "cells": [
  {
   "cell_type": "code",
   "id": "initial_id",
   "metadata": {
    "collapsed": true,
    "ExecuteTime": {
     "end_time": "2024-08-20T15:54:39.565345Z",
     "start_time": "2024-08-20T15:54:38.820055Z"
    }
   },
   "source": [
    "import pandas as pd\n",
    "import ast\n",
    "\n",
    "# Exemple de données\n",
    "data = {\n",
    "    \"Marque\": [\"Ineos\"],\n",
    "    \"Modele\": [\"Grenadier\"],\n",
    "    \"Annee\": [2024],\n",
    "    \"Vehicule\": [\"Ineos Grenadier 3.0 T 286ch Fieldmaster Edition\"],\n",
    "    \"Prix\": [82490.0],\n",
    "    \"Date Publication\": [\"2022-04-01\"],\n",
    "    \"Resumer\": [\"{'energie': 'Essence', 'puissance_commerciale': 286, 'puissance_fiscale': 0, 'consommation_mixte': 14.4, 'emission_de_co2': 325, 'boite_de_vitesses': 'Automatique', 'carrosserie': '4*4/SUV/Crossovers', 'date_de_fin_de_commercialisation': '-', 'Immatriculation': '7e546927-d3e3-477f-8971-b0cd70187264', 'Object_Folder_Resumer': 'Vehiculs/Models/INEOS/Resumer'}\"],\n",
    "    \"Dimensions\": [\"{'longueur': 4.9, 'largeur': 1.93, 'hauteur': 2.05, 'empattement': 2.92, 'reservoir': 90, 'porte_a_faux_avant': 0.887, 'porte_a_faux_arriere': 0.874, 'voies_avant': 1.645, 'voies_arriere': 1.645, 'garde_au_sol': 264, 'angle_dattaque': 35.5, 'angle_ventral': 28.2, 'angle_de_fuite': 36.1, 'Immatriculation': '7e546927-d3e3-477f-8971-b0cd70187264', 'Object_Folder_Dimensions': 'Vehiculs/Models/INEOS/Dimensions'}\"],\n",
    "    \"Weight\": [\"{'poids_a_vide': 2669, 'ptac': 3500, 'ptra': 7000, 'charge_utile': 831, 'poids_tracte_freine': 3500, 'poids_tracte_non_freine': 750, 'Immatriculation': '7e546927-d3e3-477f-8971-b0cd70187264', 'Object_Folder_Weight': 'Vehiculs/Models/INEOS/Weight'}\"],\n",
    "    \"Habitability\": [\"{'nombre_de_places': 5, 'volume_de_coffre': 1152, 'volume_de_coffre_utile': 2035, 'hauteur_de_seuil_de_chargement': 1039, 'longueur_utile': 1645, 'largeur_utile': 1064, 'Immatriculation': '7e546927-d3e3-477f-8971-b0cd70187264', 'Object_Folder_Habitability': 'Vehiculs/Models/INEOS/Habitability'}\"],\n",
    "    \"Tires\": [\"{'types_de_pneumatiques': '4x4', 'materiau_des_jantes': 'Aluminium', 'taille_des_roues_avant': '265/70 R17', 'taille_des_roues_arriere': '265/70 R17', 'type_de_roues_de_secours': 'Normale', 'Immatriculation': '7e546927-d3e3-477f-8971-b0cd70187264', 'Object_Folder_Tires': 'Vehiculs/Models/INEOS/Tires'}\"],\n",
    "    \"Engine\": [\"{'Nom_du_moteur': 3.0, 'Energie': 'Essence', 'Architecture': 'Six cylindres en ligne', 'Alimentation': 'Turbo', 'Injection': 'Injection directe essence', 'Cylindree': 2998.0, 'Au_regime_de': 4750.0, 'Couple_maxi': 450.0, 'Nombre_de_soupapes': 24.0, 'Rapport_volumetrique': 11.0, 'Norme_anti-pollution': 'Euro 6', 'Disposition_du_moteur': 'Longitudinale Avant', 'Puissance_reelle_maxi_ch': 286.0, 'Puissance_reelle_maxi_kW': 210.0, 'Alesage': 82.0, 'Course': 94.6}\"],\n",
    "    \"Transmission\": [\"{'Boite_de_vitesses': 'Automatique 8 rapports', 'Mode_de_transmission': 'Transmission intégrale permanente'}\"],\n",
    "    \"Performance\": [\"{'Vitesse_maximale': 160, '0_a_100_km/h': 8.6, 'Immatriculation': '7e546927-d3e3-477f-8971-b0cd70187264', 'Object_Folder_Performance': 'Vehiculs/Models/INEOS/Performance'}\"],\n",
    "    \"Consumption\": [\"{'Mixte': 14.4, 'Emission_de_CO2': 325, 'Immatriculation': '7e546927-d3e3-477f-8971-b0cd70187264', 'Object_Folder_Consumption': 'Vehiculs/Models/INEOS/Consumption'}\"],\n",
    "    \"Immatriculation\": [\"7e546927-d3e3-477f-8971-b0cd70187264\"]\n",
    "}\n"
   ],
   "outputs": [],
   "execution_count": 2
  },
  {
   "metadata": {
    "ExecuteTime": {
     "end_time": "2024-08-20T14:45:48.014737Z",
     "start_time": "2024-08-20T14:45:48.009196Z"
    }
   },
   "cell_type": "code",
   "source": "df = pd.DataFrame(data)",
   "id": "7f3227d3aff5e017",
   "outputs": [],
   "execution_count": 2
  },
  {
   "metadata": {
    "ExecuteTime": {
     "end_time": "2024-08-20T14:45:58.639977Z",
     "start_time": "2024-08-20T14:45:58.634247Z"
    }
   },
   "cell_type": "code",
   "source": [
    "# Créer le DataFrame\n",
    "# Fonction pour remplacer les guillemets simples par des guillemets doubles\n",
    "def replace_quotes(val):\n",
    "    if isinstance(val, str):\n",
    "        try:\n",
    "            # Vérifier si la chaîne de caractères ressemble à un dictionnaire\n",
    "            dict_val = ast.literal_eval(val)\n",
    "            if isinstance(dict_val, dict):\n",
    "                # Si c'est un dictionnaire, convertir en chaîne avec guillemets doubles\n",
    "                return str(dict_val).replace(\"'\", '\"')\n",
    "        except (ValueError, SyntaxError):\n",
    "            pass\n",
    "        # Remplacer les guillemets simples par des guillemets doubles\n",
    "        return val.replace(\"'\", '\"')\n",
    "    return val"
   ],
   "id": "a8538969b6cdc5d2",
   "outputs": [],
   "execution_count": 3
  },
  {
   "metadata": {
    "ExecuteTime": {
     "end_time": "2024-08-20T14:46:14.494895Z",
     "start_time": "2024-08-20T14:46:14.461350Z"
    }
   },
   "cell_type": "code",
   "source": [
    "# Appliquer la fonction à toutes les colonnes du DataFrame\n",
    "df = df.applymap(replace_quotes)\n",
    "df.head(10)"
   ],
   "id": "be9734fddffc5749",
   "outputs": [
    {
     "name": "stderr",
     "output_type": "stream",
     "text": [
      "/var/folders/k7/9z0j2pjj5s5dj9d09gxby06r0000gn/T/ipykernel_55851/2124086942.py:2: FutureWarning: DataFrame.applymap has been deprecated. Use DataFrame.map instead.\n",
      "  df = df.applymap(replace_quotes)\n"
     ]
    },
    {
     "data": {
      "text/plain": [
       "  Marque     Modele  Annee                                         Vehicule  \\\n",
       "0  Ineos  Grenadier   2024  Ineos Grenadier 3.0 T 286ch Fieldmaster Edition   \n",
       "\n",
       "      Prix Date Publication  \\\n",
       "0  82490.0       2022-04-01   \n",
       "\n",
       "                                             Resumer  \\\n",
       "0  {\"energie\": \"Essence\", \"puissance_commerciale\"...   \n",
       "\n",
       "                                          Dimensions  \\\n",
       "0  {\"longueur\": 4.9, \"largeur\": 1.93, \"hauteur\": ...   \n",
       "\n",
       "                                              Weight  \\\n",
       "0  {\"poids_a_vide\": 2669, \"ptac\": 3500, \"ptra\": 7...   \n",
       "\n",
       "                                        Habitability  \\\n",
       "0  {\"nombre_de_places\": 5, \"volume_de_coffre\": 11...   \n",
       "\n",
       "                                               Tires  \\\n",
       "0  {\"types_de_pneumatiques\": \"4x4\", \"materiau_des...   \n",
       "\n",
       "                                              Engine  \\\n",
       "0  {\"Nom_du_moteur\": 3.0, \"Energie\": \"Essence\", \"...   \n",
       "\n",
       "                                        Transmission  \\\n",
       "0  {\"Boite_de_vitesses\": \"Automatique 8 rapports\"...   \n",
       "\n",
       "                                         Performance  \\\n",
       "0  {\"Vitesse_maximale\": 160, \"0_a_100_km/h\": 8.6,...   \n",
       "\n",
       "                                         Consumption  \\\n",
       "0  {\"Mixte\": 14.4, \"Emission_de_CO2\": 325, \"Immat...   \n",
       "\n",
       "                        Immatriculation  \n",
       "0  7e546927-d3e3-477f-8971-b0cd70187264  "
      ],
      "text/html": [
       "<div>\n",
       "<style scoped>\n",
       "    .dataframe tbody tr th:only-of-type {\n",
       "        vertical-align: middle;\n",
       "    }\n",
       "\n",
       "    .dataframe tbody tr th {\n",
       "        vertical-align: top;\n",
       "    }\n",
       "\n",
       "    .dataframe thead th {\n",
       "        text-align: right;\n",
       "    }\n",
       "</style>\n",
       "<table border=\"1\" class=\"dataframe\">\n",
       "  <thead>\n",
       "    <tr style=\"text-align: right;\">\n",
       "      <th></th>\n",
       "      <th>Marque</th>\n",
       "      <th>Modele</th>\n",
       "      <th>Annee</th>\n",
       "      <th>Vehicule</th>\n",
       "      <th>Prix</th>\n",
       "      <th>Date Publication</th>\n",
       "      <th>Resumer</th>\n",
       "      <th>Dimensions</th>\n",
       "      <th>Weight</th>\n",
       "      <th>Habitability</th>\n",
       "      <th>Tires</th>\n",
       "      <th>Engine</th>\n",
       "      <th>Transmission</th>\n",
       "      <th>Performance</th>\n",
       "      <th>Consumption</th>\n",
       "      <th>Immatriculation</th>\n",
       "    </tr>\n",
       "  </thead>\n",
       "  <tbody>\n",
       "    <tr>\n",
       "      <th>0</th>\n",
       "      <td>Ineos</td>\n",
       "      <td>Grenadier</td>\n",
       "      <td>2024</td>\n",
       "      <td>Ineos Grenadier 3.0 T 286ch Fieldmaster Edition</td>\n",
       "      <td>82490.0</td>\n",
       "      <td>2022-04-01</td>\n",
       "      <td>{\"energie\": \"Essence\", \"puissance_commerciale\"...</td>\n",
       "      <td>{\"longueur\": 4.9, \"largeur\": 1.93, \"hauteur\": ...</td>\n",
       "      <td>{\"poids_a_vide\": 2669, \"ptac\": 3500, \"ptra\": 7...</td>\n",
       "      <td>{\"nombre_de_places\": 5, \"volume_de_coffre\": 11...</td>\n",
       "      <td>{\"types_de_pneumatiques\": \"4x4\", \"materiau_des...</td>\n",
       "      <td>{\"Nom_du_moteur\": 3.0, \"Energie\": \"Essence\", \"...</td>\n",
       "      <td>{\"Boite_de_vitesses\": \"Automatique 8 rapports\"...</td>\n",
       "      <td>{\"Vitesse_maximale\": 160, \"0_a_100_km/h\": 8.6,...</td>\n",
       "      <td>{\"Mixte\": 14.4, \"Emission_de_CO2\": 325, \"Immat...</td>\n",
       "      <td>7e546927-d3e3-477f-8971-b0cd70187264</td>\n",
       "    </tr>\n",
       "  </tbody>\n",
       "</table>\n",
       "</div>"
      ]
     },
     "execution_count": 4,
     "metadata": {},
     "output_type": "execute_result"
    }
   ],
   "execution_count": 4
  },
  {
   "metadata": {
    "ExecuteTime": {
     "end_time": "2024-08-20T14:49:42.909254Z",
     "start_time": "2024-08-20T14:49:42.904832Z"
    }
   },
   "cell_type": "code",
   "source": "df.to_csv('test.csv', sep=';', index=False)",
   "id": "b029a52ca008c8",
   "outputs": [],
   "execution_count": 7
  },
  {
   "metadata": {
    "ExecuteTime": {
     "end_time": "2024-08-20T14:50:21.022723Z",
     "start_time": "2024-08-20T14:50:21.016770Z"
    }
   },
   "cell_type": "code",
   "source": [
    "import re\n",
    "\n",
    "with open('test.csv', 'r') as file:\n",
    "    content = file.read()\n",
    "\n",
    "# Remplace les guillemets échappés par des guillemets simples\n",
    "content = re.sub(r'\"\"', '\"', content)\n",
    "\n",
    "with open('test_fixed.csv', 'w') as file:\n",
    "    file.write(content)\n"
   ],
   "id": "ba18436632977ecc",
   "outputs": [],
   "execution_count": 8
  },
  {
   "metadata": {
    "ExecuteTime": {
     "end_time": "2024-08-20T15:54:44.060059Z",
     "start_time": "2024-08-20T15:54:44.052307Z"
    }
   },
   "cell_type": "code",
   "source": "",
   "id": "dc28d49b55f8833f",
   "outputs": [
    {
     "name": "stdout",
     "output_type": "stream",
     "text": [
      "0    {0_a_100_km/h\": 9.2, \"Immatriculation\": \"2eb10...\n",
      "1    {Mixte\": 14.4, \"Emission_de_CO2\": 325, \"Immatr...\n",
      "Name: Performance, dtype: object\n"
     ]
    }
   ],
   "execution_count": 3
  }
 ],
 "metadata": {
  "kernelspec": {
   "display_name": "Python 3",
   "language": "python",
   "name": "python3"
  },
  "language_info": {
   "codemirror_mode": {
    "name": "ipython",
    "version": 2
   },
   "file_extension": ".py",
   "mimetype": "text/x-python",
   "name": "python",
   "nbconvert_exporter": "python",
   "pygments_lexer": "ipython2",
   "version": "2.7.6"
  }
 },
 "nbformat": 4,
 "nbformat_minor": 5
}
