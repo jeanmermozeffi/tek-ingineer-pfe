{
 "cells": [
  {
   "metadata": {},
   "cell_type": "markdown",
   "source": "# Prévision des prix des voitures",
   "id": "28b80ab551970a6c"
  },
  {
   "metadata": {},
   "cell_type": "markdown",
   "source": "### 1.4 Importation de bibliothèques",
   "id": "45d6aefdef4c39ac"
  },
  {
   "metadata": {
    "ExecuteTime": {
     "end_time": "2024-10-30T01:06:06.506127Z",
     "start_time": "2024-10-30T01:05:24.417819Z"
    }
   },
   "cell_type": "code",
   "source": [
    "import re\n",
    "import os\n",
    "from sklearn.utils import shuffle\n",
    "import numpy as np\n",
    "import pandas as pd\n",
    "import seaborn as sns\n",
    "\n",
    "import mlflow\n",
    "import mlflow.tensorflow\n",
    "from mlflow.models import infer_signature\n",
    "from mlflow.models import ModelSignature\n",
    "from mlflow.tensorflow import MlflowCallback\n",
    "\n",
    "from sklearn.preprocessing import LabelEncoder\n",
    "import tensorflow as tf\n",
    "\n",
    "from tensorflow import keras\n",
    "from tensorflow.keras import layers\n",
    "from tensorflow.keras.layers import Normalization, Dense, Input, ReLU, Dropout, InputLayer\n",
    "from tensorflow.keras.layers import Flatten\n",
    "from tensorflow.keras.optimizers import Adam\n",
    "from tensorflow.keras.losses import MeanAbsoluteError, MeanSquaredError\n",
    "import keras_tuner as kt\n",
    "\n",
    "import matplotlib.pyplot as plt\n",
    "\n",
    "from src.utils.preprocessing.feactures_selection import cols_correlations\n",
    "\n",
    "print(tf.__version__)"
   ],
   "id": "f06922d58012397f",
   "outputs": [
    {
     "name": "stderr",
     "output_type": "stream",
     "text": [
      "2024-10-30 01:05:49.160692: I tensorflow/core/platform/cpu_feature_guard.cc:210] This TensorFlow binary is optimized to use available CPU instructions in performance-critical operations.\n",
      "To enable the following instructions: AVX2 FMA, in other operations, rebuild TensorFlow with the appropriate compiler flags.\n"
     ]
    },
    {
     "name": "stdout",
     "output_type": "stream",
     "text": [
      "2.16.2\n"
     ]
    }
   ],
   "execution_count": 1
  },
  {
   "metadata": {},
   "cell_type": "markdown",
   "source": "### MlFlow Tracking",
   "id": "9dcfc9b39dcd2282"
  },
  {
   "metadata": {
    "ExecuteTime": {
     "end_time": "2024-10-30T01:08:03.263198Z",
     "start_time": "2024-10-30T01:08:03.223218Z"
    }
   },
   "cell_type": "code",
   "source": [
    "POSTGRES_HOST = \"modele-pfe\"\n",
    "POSTGRES_DB = \"pfe-database-monitoring\"\n",
    "POSTGRES_PASSWORD = \"admin\"\n",
    "POSTGRES_USER = \"Admin123\"\n",
    "POSTGRES_PORT = 5432\n",
    "\n",
    "uri = 'postgresql://{POSTGRES_USER}:{POSTGRES_PASSWORD}@{POSTGRES_HOST}:{POSTGRES_PORT}/{POSTGRES_DB}'"
   ],
   "id": "5ca7945bd23dd640",
   "outputs": [],
   "execution_count": 2
  },
  {
   "metadata": {},
   "cell_type": "markdown",
   "source": "####  Configure MLflow",
   "id": "eb5dd4525fd50c05"
  },
  {
   "metadata": {
    "ExecuteTime": {
     "end_time": "2024-10-30T01:08:07.055789Z",
     "start_time": "2024-10-30T01:08:07.046772Z"
    }
   },
   "cell_type": "code",
   "source": [
    "os.environ[\"MLFLOW_S3_ENDPOINT_URL\"] = \"http://localhost:9000\"\n",
    "os.environ[\"AWS_ACCESS_KEY_ID\"] = \"minioAdmin\"\n",
    "os.environ[\"AWS_SECRET_ACCESS_KEY\"] = \"Adminminio2024\""
   ],
   "id": "7577229f2a7fc253",
   "outputs": [],
   "execution_count": 3
  },
  {
   "metadata": {
    "ExecuteTime": {
     "end_time": "2024-10-30T01:08:09.351338Z",
     "start_time": "2024-10-30T01:08:09.122687Z"
    }
   },
   "cell_type": "code",
   "source": [
    "# Configure MLflow\n",
    "mlflow.set_tracking_uri(\"http://localhost:5000\")\n",
    "mlflow.set_experiment(\"vehicle_prediction_tensorflow\")\n",
    "# Définir l'emplacement du stockage des artefacts\n",
    "print(f\"tracking URI: '{mlflow.get_tracking_uri()}'\")"
   ],
   "id": "b762727067c69f07",
   "outputs": [
    {
     "name": "stderr",
     "output_type": "stream",
     "text": [
      "2024/10/30 01:08:09 INFO mlflow.tracking.fluent: Experiment with name 'vehicle_prediction_tensorflow' does not exist. Creating a new experiment.\n"
     ]
    },
    {
     "name": "stdout",
     "output_type": "stream",
     "text": [
      "tracking URI: 'http://localhost:5000'\n"
     ]
    }
   ],
   "execution_count": 4
  },
  {
   "metadata": {},
   "cell_type": "markdown",
   "source": "### Parametres",
   "id": "350b40efc4d4c56a"
  },
  {
   "metadata": {
    "ExecuteTime": {
     "end_time": "2024-10-30T01:08:17.862276Z",
     "start_time": "2024-10-30T01:08:17.858444Z"
    }
   },
   "cell_type": "code",
   "source": [
    "TRAIN_RATIO = 0.7\n",
    "VAL_RATIO = 0.1\n",
    "TEST_RATIO =0.2\n",
    "EURO_PARITY = 667,96"
   ],
   "id": "2aee9dda161d31e",
   "outputs": [],
   "execution_count": 5
  },
  {
   "metadata": {},
   "cell_type": "markdown",
   "source": "### Definition fonction",
   "id": "82d92ff33b951526"
  },
  {
   "metadata": {
    "ExecuteTime": {
     "end_time": "2024-10-30T01:08:20.836580Z",
     "start_time": "2024-10-30T01:08:20.825695Z"
    }
   },
   "cell_type": "code",
   "source": [
    "def clean_numeric_string(value):\n",
    "    \"\"\"\n",
    "    Supprime tous les caractères non numériques d'une chaîne de caractères.\n",
    "    Si la chaîne devient vide après le nettoyage, retourne NaN.\n",
    "    \"\"\"\n",
    "    # Supprimer tous les caractères non numériques, sauf les points (pour les flottants)\n",
    "    cleaned_value = re.sub(r'[^\\d.]+', '', str(value))\n",
    "\n",
    "    # Si après le nettoyage la chaîne est vide, retourner NaN\n",
    "    return float(cleaned_value) if cleaned_value else float('nan')\n",
    "\n",
    "def convert_columns_to_int(df, cols):\n",
    "    for col in cols:\n",
    "        if col in df.columns:\n",
    "            df[col] = df[col].apply(clean_numeric_string)\n",
    "            df[col] = df[col].fillna(0).astype(float).astype(int)\n",
    "    return df\n",
    "\n",
    "def convert_prices_to_cfa(dataframe: pd.DataFrame, col_name: str = 'Prix', parity: float = 667.66):\n",
    "    \"\"\"\n",
    "    Convertit les prix d'une colonne donnée en CFA en utilisant un taux de conversion spécifique.\n",
    "    \n",
    "    :param dataframe: Le DataFrame à modifier.\n",
    "    :param col_name: Le nom de la colonne à convertir. Par défaut, 'Prix'.\n",
    "    :param parity: Le taux de conversion Euro vers CFA. Par défaut, 655.957.\n",
    "    :return: Le DataFrame modifié avec les prix convertis.\n",
    "    \"\"\"\n",
    "    if col_name in dataframe.columns:\n",
    "        # Convertir les prix en CFA et arrondir à l'entier le plus proche\n",
    "        dataframe[col_name] = (dataframe[col_name] * parity).round().astype(int)\n",
    "    return dataframe\n",
    "\n",
    "\n",
    "def one_hot_encode(dataframe: pd.DataFrame, cols: list):\n",
    "    \"\"\"\n",
    "    Encodes specified categorical columns in the DataFrame using one-hot encoding.\n",
    "\n",
    "    Args:\n",
    "        dataframe (pd.DataFrame): The DataFrame to encode.\n",
    "        cols (list): List of column names to encode.\n",
    "\n",
    "    Returns:\n",
    "        pd.DataFrame: The DataFrame with one-hot encoded columns.\n",
    "    \"\"\"\n",
    "    df_encoded = pd.get_dummies(dataframe, columns=cols, drop_first=True)\n",
    "    return df_encoded\n",
    "\n",
    "def label_encode(dataframe: pd.DataFrame, cols: list):\n",
    "    \"\"\"\n",
    "    Encodes specified categorical columns in the DataFrame using label encoding.\n",
    "\n",
    "    Args:\n",
    "        dataframe (pd.DataFrame): The DataFrame to encode.\n",
    "        cols (list): List of column names to encode.\n",
    "\n",
    "    Returns:\n",
    "        pd.DataFrame: The DataFrame with label encoded columns.\n",
    "    \"\"\"\n",
    "    df_encoded = dataframe.copy()\n",
    "    for col in cols:\n",
    "        if col in df_encoded.columns:\n",
    "            le = LabelEncoder()\n",
    "            df_encoded[col] = le.fit_transform(df_encoded[col].astype(str))\n",
    "    return df_encoded"
   ],
   "id": "b7096be24624e029",
   "outputs": [],
   "execution_count": 6
  },
  {
   "metadata": {},
   "cell_type": "markdown",
   "source": "### 1.5 Chargement des données",
   "id": "e6821d57aecf2ad"
  },
  {
   "metadata": {
    "ExecuteTime": {
     "end_time": "2024-10-30T01:08:26.256645Z",
     "start_time": "2024-10-30T01:08:26.119071Z"
    }
   },
   "cell_type": "code",
   "source": [
    "path = '../data/cleaning/models/prepared_data_model.csv'\n",
    "df_raw = pd.read_csv(path)"
   ],
   "id": "43c09a36e1df3322",
   "outputs": [],
   "execution_count": 7
  },
  {
   "metadata": {
    "ExecuteTime": {
     "end_time": "2024-10-30T01:08:29.077289Z",
     "start_time": "2024-10-30T01:08:29.034791Z"
    }
   },
   "cell_type": "code",
   "source": [
    "df = df_raw.copy()\n",
    "df.head(10)"
   ],
   "id": "3c50e96c7ffdb66e",
   "outputs": [
    {
     "data": {
      "text/plain": [
       "         Marque        Modele         Annee      Prix  \\\n",
       "0  2.819009e+07  2.819009e+07  3.095923e+07  55075273   \n",
       "1  3.341498e+07  2.753632e+07  1.729196e+07  24613286   \n",
       "2  4.403130e+07  2.642971e+07  1.754328e+07  27841422   \n",
       "3  3.475627e+07  3.862237e+07  1.846534e+07  29377040   \n",
       "4  1.704447e+07  2.258660e+07  1.789735e+07  12418476   \n",
       "5  3.489149e+07  2.507237e+07  2.184668e+07  24436356   \n",
       "6  1.740768e+07  1.930159e+07  2.275957e+07  18894778   \n",
       "7  1.658521e+07  1.721114e+07  1.846534e+07  15489712   \n",
       "8  6.922408e+06  2.152887e+07  2.017001e+07   5880749   \n",
       "9  2.158674e+07  2.332600e+07  3.087770e+07  25905208   \n",
       "\n",
       "                        Immatriculation  Vitesse_maximale  0_a_100_km/h  \\\n",
       "0  7e546927-d3e3-477f-8971-b0cd70187264             160.0          8.60   \n",
       "1  fb2f74bc-f6e0-4624-967c-78d9466accfa             235.0          9.20   \n",
       "2  cab0aab1-ba72-4778-b7f4-d1efaa37d5a9             230.0          8.50   \n",
       "3  0285f39e-16ab-410d-939c-37de56206408             245.0          7.10   \n",
       "4  3ea13155-3031-4ade-836f-c72c593b671c             170.0         12.50   \n",
       "5  0937655d-3cb1-4311-a657-c8fd974daa63             205.0         10.20   \n",
       "6  31e0569c-600e-46cb-8f91-45c525e89821             180.0         12.50   \n",
       "7  0e6a4256-8917-42b3-bfdf-84c419f3f429             188.0         11.80   \n",
       "8  105a5377-e006-4fc2-85f3-21b4c566ca78             160.8         14.72   \n",
       "9  cc2a91d6-c28b-4997-b885-a71f2c6c019c             192.0         10.80   \n",
       "\n",
       "   Cylindree  Au_regime_de  Couple_maxi  ...  longueur  largeur  hauteur  \\\n",
       "0     2998.0        4750.0        450.0  ...     4.900     1.93    2.050   \n",
       "1     2597.0        4500.0        240.0  ...     4.520     1.72    1.430   \n",
       "2     2720.0        1900.0        435.0  ...     4.910     1.82    1.450   \n",
       "3     2979.0        3500.0        300.0  ...     4.840     1.85    1.470   \n",
       "4     1686.0        2300.0        240.0  ...     4.320     1.68    1.800   \n",
       "5     2231.0        3600.0        340.0  ...     4.590     1.80    1.440   \n",
       "6     1461.0        1750.0        240.0  ...     4.370     1.85    1.640   \n",
       "7     1997.0        1750.0        250.0  ...     4.200     1.75    1.510   \n",
       "8      690.0        6100.0         80.6  ...     2.128     0.82    1.142   \n",
       "9     1496.0        4000.0        270.0  ...     4.270     1.80    1.440   \n",
       "\n",
       "   empattement  reservoir  porte_a_faux_avant  porte_a_faux_arriere  \\\n",
       "0        2.920       90.0              0.8870                0.8740   \n",
       "1        2.720       62.0              1.0038                1.1132   \n",
       "2        2.910       70.0              0.9508                1.0888   \n",
       "3        2.890       70.0              0.8404                1.0444   \n",
       "4        2.720       52.0              0.8314                0.7984   \n",
       "5        2.730       65.0              0.8200                1.0350   \n",
       "6        2.700       60.0              0.8850                0.7570   \n",
       "7        2.610       60.0              0.8780                0.7160   \n",
       "8        1.484       12.4              0.7492                0.6386   \n",
       "9        2.670       48.0              0.8010                0.7950   \n",
       "\n",
       "   voies_avant  voies_arriere  garde_au_sol  \n",
       "0        1.645          1.645         264.0  \n",
       "1        1.500          1.470         141.0  \n",
       "2        1.534          1.542         143.0  \n",
       "3        1.558          1.582         158.6  \n",
       "4        1.417          1.440         125.6  \n",
       "5        1.535          1.535         180.2  \n",
       "6        1.545          1.547         120.0  \n",
       "7        1.497          1.502         147.2  \n",
       "8        1.409          1.383         199.0  \n",
       "9        1.564          1.565         141.0  \n",
       "\n",
       "[10 rows x 73 columns]"
      ],
      "text/html": [
       "<div>\n",
       "<style scoped>\n",
       "    .dataframe tbody tr th:only-of-type {\n",
       "        vertical-align: middle;\n",
       "    }\n",
       "\n",
       "    .dataframe tbody tr th {\n",
       "        vertical-align: top;\n",
       "    }\n",
       "\n",
       "    .dataframe thead th {\n",
       "        text-align: right;\n",
       "    }\n",
       "</style>\n",
       "<table border=\"1\" class=\"dataframe\">\n",
       "  <thead>\n",
       "    <tr style=\"text-align: right;\">\n",
       "      <th></th>\n",
       "      <th>Marque</th>\n",
       "      <th>Modele</th>\n",
       "      <th>Annee</th>\n",
       "      <th>Prix</th>\n",
       "      <th>Immatriculation</th>\n",
       "      <th>Vitesse_maximale</th>\n",
       "      <th>0_a_100_km/h</th>\n",
       "      <th>Cylindree</th>\n",
       "      <th>Au_regime_de</th>\n",
       "      <th>Couple_maxi</th>\n",
       "      <th>...</th>\n",
       "      <th>longueur</th>\n",
       "      <th>largeur</th>\n",
       "      <th>hauteur</th>\n",
       "      <th>empattement</th>\n",
       "      <th>reservoir</th>\n",
       "      <th>porte_a_faux_avant</th>\n",
       "      <th>porte_a_faux_arriere</th>\n",
       "      <th>voies_avant</th>\n",
       "      <th>voies_arriere</th>\n",
       "      <th>garde_au_sol</th>\n",
       "    </tr>\n",
       "  </thead>\n",
       "  <tbody>\n",
       "    <tr>\n",
       "      <th>0</th>\n",
       "      <td>2.819009e+07</td>\n",
       "      <td>2.819009e+07</td>\n",
       "      <td>3.095923e+07</td>\n",
       "      <td>55075273</td>\n",
       "      <td>7e546927-d3e3-477f-8971-b0cd70187264</td>\n",
       "      <td>160.0</td>\n",
       "      <td>8.60</td>\n",
       "      <td>2998.0</td>\n",
       "      <td>4750.0</td>\n",
       "      <td>450.0</td>\n",
       "      <td>...</td>\n",
       "      <td>4.900</td>\n",
       "      <td>1.93</td>\n",
       "      <td>2.050</td>\n",
       "      <td>2.920</td>\n",
       "      <td>90.0</td>\n",
       "      <td>0.8870</td>\n",
       "      <td>0.8740</td>\n",
       "      <td>1.645</td>\n",
       "      <td>1.645</td>\n",
       "      <td>264.0</td>\n",
       "    </tr>\n",
       "    <tr>\n",
       "      <th>1</th>\n",
       "      <td>3.341498e+07</td>\n",
       "      <td>2.753632e+07</td>\n",
       "      <td>1.729196e+07</td>\n",
       "      <td>24613286</td>\n",
       "      <td>fb2f74bc-f6e0-4624-967c-78d9466accfa</td>\n",
       "      <td>235.0</td>\n",
       "      <td>9.20</td>\n",
       "      <td>2597.0</td>\n",
       "      <td>4500.0</td>\n",
       "      <td>240.0</td>\n",
       "      <td>...</td>\n",
       "      <td>4.520</td>\n",
       "      <td>1.72</td>\n",
       "      <td>1.430</td>\n",
       "      <td>2.720</td>\n",
       "      <td>62.0</td>\n",
       "      <td>1.0038</td>\n",
       "      <td>1.1132</td>\n",
       "      <td>1.500</td>\n",
       "      <td>1.470</td>\n",
       "      <td>141.0</td>\n",
       "    </tr>\n",
       "    <tr>\n",
       "      <th>2</th>\n",
       "      <td>4.403130e+07</td>\n",
       "      <td>2.642971e+07</td>\n",
       "      <td>1.754328e+07</td>\n",
       "      <td>27841422</td>\n",
       "      <td>cab0aab1-ba72-4778-b7f4-d1efaa37d5a9</td>\n",
       "      <td>230.0</td>\n",
       "      <td>8.50</td>\n",
       "      <td>2720.0</td>\n",
       "      <td>1900.0</td>\n",
       "      <td>435.0</td>\n",
       "      <td>...</td>\n",
       "      <td>4.910</td>\n",
       "      <td>1.82</td>\n",
       "      <td>1.450</td>\n",
       "      <td>2.910</td>\n",
       "      <td>70.0</td>\n",
       "      <td>0.9508</td>\n",
       "      <td>1.0888</td>\n",
       "      <td>1.534</td>\n",
       "      <td>1.542</td>\n",
       "      <td>143.0</td>\n",
       "    </tr>\n",
       "    <tr>\n",
       "      <th>3</th>\n",
       "      <td>3.475627e+07</td>\n",
       "      <td>3.862237e+07</td>\n",
       "      <td>1.846534e+07</td>\n",
       "      <td>29377040</td>\n",
       "      <td>0285f39e-16ab-410d-939c-37de56206408</td>\n",
       "      <td>245.0</td>\n",
       "      <td>7.10</td>\n",
       "      <td>2979.0</td>\n",
       "      <td>3500.0</td>\n",
       "      <td>300.0</td>\n",
       "      <td>...</td>\n",
       "      <td>4.840</td>\n",
       "      <td>1.85</td>\n",
       "      <td>1.470</td>\n",
       "      <td>2.890</td>\n",
       "      <td>70.0</td>\n",
       "      <td>0.8404</td>\n",
       "      <td>1.0444</td>\n",
       "      <td>1.558</td>\n",
       "      <td>1.582</td>\n",
       "      <td>158.6</td>\n",
       "    </tr>\n",
       "    <tr>\n",
       "      <th>4</th>\n",
       "      <td>1.704447e+07</td>\n",
       "      <td>2.258660e+07</td>\n",
       "      <td>1.789735e+07</td>\n",
       "      <td>12418476</td>\n",
       "      <td>3ea13155-3031-4ade-836f-c72c593b671c</td>\n",
       "      <td>170.0</td>\n",
       "      <td>12.50</td>\n",
       "      <td>1686.0</td>\n",
       "      <td>2300.0</td>\n",
       "      <td>240.0</td>\n",
       "      <td>...</td>\n",
       "      <td>4.320</td>\n",
       "      <td>1.68</td>\n",
       "      <td>1.800</td>\n",
       "      <td>2.720</td>\n",
       "      <td>52.0</td>\n",
       "      <td>0.8314</td>\n",
       "      <td>0.7984</td>\n",
       "      <td>1.417</td>\n",
       "      <td>1.440</td>\n",
       "      <td>125.6</td>\n",
       "    </tr>\n",
       "    <tr>\n",
       "      <th>5</th>\n",
       "      <td>3.489149e+07</td>\n",
       "      <td>2.507237e+07</td>\n",
       "      <td>2.184668e+07</td>\n",
       "      <td>24436356</td>\n",
       "      <td>0937655d-3cb1-4311-a657-c8fd974daa63</td>\n",
       "      <td>205.0</td>\n",
       "      <td>10.20</td>\n",
       "      <td>2231.0</td>\n",
       "      <td>3600.0</td>\n",
       "      <td>340.0</td>\n",
       "      <td>...</td>\n",
       "      <td>4.590</td>\n",
       "      <td>1.80</td>\n",
       "      <td>1.440</td>\n",
       "      <td>2.730</td>\n",
       "      <td>65.0</td>\n",
       "      <td>0.8200</td>\n",
       "      <td>1.0350</td>\n",
       "      <td>1.535</td>\n",
       "      <td>1.535</td>\n",
       "      <td>180.2</td>\n",
       "    </tr>\n",
       "    <tr>\n",
       "      <th>6</th>\n",
       "      <td>1.740768e+07</td>\n",
       "      <td>1.930159e+07</td>\n",
       "      <td>2.275957e+07</td>\n",
       "      <td>18894778</td>\n",
       "      <td>31e0569c-600e-46cb-8f91-45c525e89821</td>\n",
       "      <td>180.0</td>\n",
       "      <td>12.50</td>\n",
       "      <td>1461.0</td>\n",
       "      <td>1750.0</td>\n",
       "      <td>240.0</td>\n",
       "      <td>...</td>\n",
       "      <td>4.370</td>\n",
       "      <td>1.85</td>\n",
       "      <td>1.640</td>\n",
       "      <td>2.700</td>\n",
       "      <td>60.0</td>\n",
       "      <td>0.8850</td>\n",
       "      <td>0.7570</td>\n",
       "      <td>1.545</td>\n",
       "      <td>1.547</td>\n",
       "      <td>120.0</td>\n",
       "    </tr>\n",
       "    <tr>\n",
       "      <th>7</th>\n",
       "      <td>1.658521e+07</td>\n",
       "      <td>1.721114e+07</td>\n",
       "      <td>1.846534e+07</td>\n",
       "      <td>15489712</td>\n",
       "      <td>0e6a4256-8917-42b3-bfdf-84c419f3f429</td>\n",
       "      <td>188.0</td>\n",
       "      <td>11.80</td>\n",
       "      <td>1997.0</td>\n",
       "      <td>1750.0</td>\n",
       "      <td>250.0</td>\n",
       "      <td>...</td>\n",
       "      <td>4.200</td>\n",
       "      <td>1.75</td>\n",
       "      <td>1.510</td>\n",
       "      <td>2.610</td>\n",
       "      <td>60.0</td>\n",
       "      <td>0.8780</td>\n",
       "      <td>0.7160</td>\n",
       "      <td>1.497</td>\n",
       "      <td>1.502</td>\n",
       "      <td>147.2</td>\n",
       "    </tr>\n",
       "    <tr>\n",
       "      <th>8</th>\n",
       "      <td>6.922408e+06</td>\n",
       "      <td>2.152887e+07</td>\n",
       "      <td>2.017001e+07</td>\n",
       "      <td>5880749</td>\n",
       "      <td>105a5377-e006-4fc2-85f3-21b4c566ca78</td>\n",
       "      <td>160.8</td>\n",
       "      <td>14.72</td>\n",
       "      <td>690.0</td>\n",
       "      <td>6100.0</td>\n",
       "      <td>80.6</td>\n",
       "      <td>...</td>\n",
       "      <td>2.128</td>\n",
       "      <td>0.82</td>\n",
       "      <td>1.142</td>\n",
       "      <td>1.484</td>\n",
       "      <td>12.4</td>\n",
       "      <td>0.7492</td>\n",
       "      <td>0.6386</td>\n",
       "      <td>1.409</td>\n",
       "      <td>1.383</td>\n",
       "      <td>199.0</td>\n",
       "    </tr>\n",
       "    <tr>\n",
       "      <th>9</th>\n",
       "      <td>2.158674e+07</td>\n",
       "      <td>2.332600e+07</td>\n",
       "      <td>3.087770e+07</td>\n",
       "      <td>25905208</td>\n",
       "      <td>cc2a91d6-c28b-4997-b885-a71f2c6c019c</td>\n",
       "      <td>192.0</td>\n",
       "      <td>10.80</td>\n",
       "      <td>1496.0</td>\n",
       "      <td>4000.0</td>\n",
       "      <td>270.0</td>\n",
       "      <td>...</td>\n",
       "      <td>4.270</td>\n",
       "      <td>1.80</td>\n",
       "      <td>1.440</td>\n",
       "      <td>2.670</td>\n",
       "      <td>48.0</td>\n",
       "      <td>0.8010</td>\n",
       "      <td>0.7950</td>\n",
       "      <td>1.564</td>\n",
       "      <td>1.565</td>\n",
       "      <td>141.0</td>\n",
       "    </tr>\n",
       "  </tbody>\n",
       "</table>\n",
       "<p>10 rows × 73 columns</p>\n",
       "</div>"
      ]
     },
     "execution_count": 8,
     "metadata": {},
     "output_type": "execute_result"
    }
   ],
   "execution_count": 8
  },
  {
   "metadata": {
    "ExecuteTime": {
     "end_time": "2024-10-30T01:08:34.261839Z",
     "start_time": "2024-10-30T01:08:34.256014Z"
    }
   },
   "cell_type": "code",
   "source": "df.shape",
   "id": "b7d0c4113a02fb9e",
   "outputs": [
    {
     "data": {
      "text/plain": [
       "(6310, 73)"
      ]
     },
     "execution_count": 9,
     "metadata": {},
     "output_type": "execute_result"
    }
   ],
   "execution_count": 9
  },
  {
   "metadata": {},
   "cell_type": "markdown",
   "source": "### 1.6 Data Preprocessing",
   "id": "c1896c5a615b25da"
  },
  {
   "metadata": {
    "ExecuteTime": {
     "end_time": "2024-10-30T01:08:37.154595Z",
     "start_time": "2024-10-30T01:08:37.146760Z"
    }
   },
   "cell_type": "code",
   "source": "df.isnull().sum()",
   "id": "19215cf06ba49518",
   "outputs": [
    {
     "data": {
      "text/plain": [
       "Marque                  0\n",
       "Modele                  0\n",
       "Annee                   0\n",
       "Prix                    0\n",
       "Immatriculation         0\n",
       "                       ..\n",
       "porte_a_faux_avant      0\n",
       "porte_a_faux_arriere    0\n",
       "voies_avant             0\n",
       "voies_arriere           0\n",
       "garde_au_sol            0\n",
       "Length: 73, dtype: int64"
      ]
     },
     "execution_count": 10,
     "metadata": {},
     "output_type": "execute_result"
    }
   ],
   "execution_count": 10
  },
  {
   "metadata": {
    "ExecuteTime": {
     "end_time": "2024-10-30T01:08:41.390122Z",
     "start_time": "2024-10-30T01:08:41.355017Z"
    }
   },
   "cell_type": "code",
   "source": [
    "df = df[cols_correlations]\n",
    "df.head()"
   ],
   "id": "a134cd4540f7c5f5",
   "outputs": [
    {
     "data": {
      "text/plain": [
       "       Prix        Marque        Modele         Annee  puissance_commerciale  \\\n",
       "0  55075273  2.819009e+07  2.819009e+07  3.095923e+07                  286.0   \n",
       "1  24613286  3.341498e+07  2.753632e+07  1.729196e+07                  157.4   \n",
       "2  27841422  4.403130e+07  2.642971e+07  1.754328e+07                  167.2   \n",
       "3  29377040  3.475627e+07  3.862237e+07  1.846534e+07                  169.6   \n",
       "4  12418476  1.704447e+07  2.258660e+07  1.789735e+07                   88.4   \n",
       "\n",
       "   puissance_fiscale  emission_de_co2  boite_de_vitesses_Manuelle  \\\n",
       "0                0.0            325.0                         0.0   \n",
       "1               12.0            148.6                         1.0   \n",
       "2               13.0            161.8                         1.0   \n",
       "3               15.0            199.0                         0.0   \n",
       "4                6.0            140.0                         1.0   \n",
       "\n",
       "    carrosserie  longueur  ...     Injection  Disposition_du_moteur  \\\n",
       "0  3.089136e+07      4.90  ...  3.146036e+07           3.828318e+07   \n",
       "1  3.278531e+07      4.52  ...  1.894061e+07           3.828318e+07   \n",
       "2  3.278531e+07      4.91  ...  2.668097e+07           3.828318e+07   \n",
       "3  3.278531e+07      4.84  ...  1.894061e+07           3.828318e+07   \n",
       "4  1.720609e+07      4.32  ...  2.668097e+07           2.168137e+07   \n",
       "\n",
       "   Puissance_reelle_maxi_ch  Boite_de_vitesses  Mode_de_transmission  \\\n",
       "0              4.580941e+07       3.678985e+07          3.537250e+07   \n",
       "1              2.860719e+07       2.420237e+07          3.386491e+07   \n",
       "2              2.471728e+07       2.420237e+07          3.386491e+07   \n",
       "3              3.103949e+07       2.929526e+07          3.386491e+07   \n",
       "4              1.370729e+07       1.406516e+07          1.947041e+07   \n",
       "\n",
       "   Vitesse_maximale  Mixte  Emission_de_CO2  Cycle_urbain  Extra_urbain  \n",
       "0             160.0   14.4            325.0         13.46          7.48  \n",
       "1             235.0   10.8            259.0         16.00          7.80  \n",
       "2             230.0    7.1            189.0          9.70          5.70  \n",
       "3             245.0    9.9            245.0         14.20          7.50  \n",
       "4             170.0    5.2            140.0          6.60          4.40  \n",
       "\n",
       "[5 rows x 42 columns]"
      ],
      "text/html": [
       "<div>\n",
       "<style scoped>\n",
       "    .dataframe tbody tr th:only-of-type {\n",
       "        vertical-align: middle;\n",
       "    }\n",
       "\n",
       "    .dataframe tbody tr th {\n",
       "        vertical-align: top;\n",
       "    }\n",
       "\n",
       "    .dataframe thead th {\n",
       "        text-align: right;\n",
       "    }\n",
       "</style>\n",
       "<table border=\"1\" class=\"dataframe\">\n",
       "  <thead>\n",
       "    <tr style=\"text-align: right;\">\n",
       "      <th></th>\n",
       "      <th>Prix</th>\n",
       "      <th>Marque</th>\n",
       "      <th>Modele</th>\n",
       "      <th>Annee</th>\n",
       "      <th>puissance_commerciale</th>\n",
       "      <th>puissance_fiscale</th>\n",
       "      <th>emission_de_co2</th>\n",
       "      <th>boite_de_vitesses_Manuelle</th>\n",
       "      <th>carrosserie</th>\n",
       "      <th>longueur</th>\n",
       "      <th>...</th>\n",
       "      <th>Injection</th>\n",
       "      <th>Disposition_du_moteur</th>\n",
       "      <th>Puissance_reelle_maxi_ch</th>\n",
       "      <th>Boite_de_vitesses</th>\n",
       "      <th>Mode_de_transmission</th>\n",
       "      <th>Vitesse_maximale</th>\n",
       "      <th>Mixte</th>\n",
       "      <th>Emission_de_CO2</th>\n",
       "      <th>Cycle_urbain</th>\n",
       "      <th>Extra_urbain</th>\n",
       "    </tr>\n",
       "  </thead>\n",
       "  <tbody>\n",
       "    <tr>\n",
       "      <th>0</th>\n",
       "      <td>55075273</td>\n",
       "      <td>2.819009e+07</td>\n",
       "      <td>2.819009e+07</td>\n",
       "      <td>3.095923e+07</td>\n",
       "      <td>286.0</td>\n",
       "      <td>0.0</td>\n",
       "      <td>325.0</td>\n",
       "      <td>0.0</td>\n",
       "      <td>3.089136e+07</td>\n",
       "      <td>4.90</td>\n",
       "      <td>...</td>\n",
       "      <td>3.146036e+07</td>\n",
       "      <td>3.828318e+07</td>\n",
       "      <td>4.580941e+07</td>\n",
       "      <td>3.678985e+07</td>\n",
       "      <td>3.537250e+07</td>\n",
       "      <td>160.0</td>\n",
       "      <td>14.4</td>\n",
       "      <td>325.0</td>\n",
       "      <td>13.46</td>\n",
       "      <td>7.48</td>\n",
       "    </tr>\n",
       "    <tr>\n",
       "      <th>1</th>\n",
       "      <td>24613286</td>\n",
       "      <td>3.341498e+07</td>\n",
       "      <td>2.753632e+07</td>\n",
       "      <td>1.729196e+07</td>\n",
       "      <td>157.4</td>\n",
       "      <td>12.0</td>\n",
       "      <td>148.6</td>\n",
       "      <td>1.0</td>\n",
       "      <td>3.278531e+07</td>\n",
       "      <td>4.52</td>\n",
       "      <td>...</td>\n",
       "      <td>1.894061e+07</td>\n",
       "      <td>3.828318e+07</td>\n",
       "      <td>2.860719e+07</td>\n",
       "      <td>2.420237e+07</td>\n",
       "      <td>3.386491e+07</td>\n",
       "      <td>235.0</td>\n",
       "      <td>10.8</td>\n",
       "      <td>259.0</td>\n",
       "      <td>16.00</td>\n",
       "      <td>7.80</td>\n",
       "    </tr>\n",
       "    <tr>\n",
       "      <th>2</th>\n",
       "      <td>27841422</td>\n",
       "      <td>4.403130e+07</td>\n",
       "      <td>2.642971e+07</td>\n",
       "      <td>1.754328e+07</td>\n",
       "      <td>167.2</td>\n",
       "      <td>13.0</td>\n",
       "      <td>161.8</td>\n",
       "      <td>1.0</td>\n",
       "      <td>3.278531e+07</td>\n",
       "      <td>4.91</td>\n",
       "      <td>...</td>\n",
       "      <td>2.668097e+07</td>\n",
       "      <td>3.828318e+07</td>\n",
       "      <td>2.471728e+07</td>\n",
       "      <td>2.420237e+07</td>\n",
       "      <td>3.386491e+07</td>\n",
       "      <td>230.0</td>\n",
       "      <td>7.1</td>\n",
       "      <td>189.0</td>\n",
       "      <td>9.70</td>\n",
       "      <td>5.70</td>\n",
       "    </tr>\n",
       "    <tr>\n",
       "      <th>3</th>\n",
       "      <td>29377040</td>\n",
       "      <td>3.475627e+07</td>\n",
       "      <td>3.862237e+07</td>\n",
       "      <td>1.846534e+07</td>\n",
       "      <td>169.6</td>\n",
       "      <td>15.0</td>\n",
       "      <td>199.0</td>\n",
       "      <td>0.0</td>\n",
       "      <td>3.278531e+07</td>\n",
       "      <td>4.84</td>\n",
       "      <td>...</td>\n",
       "      <td>1.894061e+07</td>\n",
       "      <td>3.828318e+07</td>\n",
       "      <td>3.103949e+07</td>\n",
       "      <td>2.929526e+07</td>\n",
       "      <td>3.386491e+07</td>\n",
       "      <td>245.0</td>\n",
       "      <td>9.9</td>\n",
       "      <td>245.0</td>\n",
       "      <td>14.20</td>\n",
       "      <td>7.50</td>\n",
       "    </tr>\n",
       "    <tr>\n",
       "      <th>4</th>\n",
       "      <td>12418476</td>\n",
       "      <td>1.704447e+07</td>\n",
       "      <td>2.258660e+07</td>\n",
       "      <td>1.789735e+07</td>\n",
       "      <td>88.4</td>\n",
       "      <td>6.0</td>\n",
       "      <td>140.0</td>\n",
       "      <td>1.0</td>\n",
       "      <td>1.720609e+07</td>\n",
       "      <td>4.32</td>\n",
       "      <td>...</td>\n",
       "      <td>2.668097e+07</td>\n",
       "      <td>2.168137e+07</td>\n",
       "      <td>1.370729e+07</td>\n",
       "      <td>1.406516e+07</td>\n",
       "      <td>1.947041e+07</td>\n",
       "      <td>170.0</td>\n",
       "      <td>5.2</td>\n",
       "      <td>140.0</td>\n",
       "      <td>6.60</td>\n",
       "      <td>4.40</td>\n",
       "    </tr>\n",
       "  </tbody>\n",
       "</table>\n",
       "<p>5 rows × 42 columns</p>\n",
       "</div>"
      ]
     },
     "execution_count": 11,
     "metadata": {},
     "output_type": "execute_result"
    }
   ],
   "execution_count": 11
  },
  {
   "metadata": {},
   "cell_type": "markdown",
   "source": "#### Convertir le prix véhicule en CFA",
   "id": "5e2b0681f2cefccb"
  },
  {
   "metadata": {},
   "cell_type": "markdown",
   "source": "#### Validate et determination anciente vehicule",
   "id": "8235c16b8ab87948"
  },
  {
   "metadata": {
    "ExecuteTime": {
     "end_time": "2024-09-09T10:10:51.892797Z",
     "start_time": "2024-09-09T10:10:51.889798Z"
    }
   },
   "cell_type": "code",
   "source": [
    "# df['Annee'] = pd.to_numeric(df['Annee'], errors='coerce')\n",
    "# df['Age_Vehicule'] = 2024 - df['Annee']\n",
    "# df.drop(['Annee'], inplace=True, axis=1)\n",
    "# df.head(10)"
   ],
   "id": "61f0f0992faac7fa",
   "outputs": [],
   "execution_count": 13
  },
  {
   "metadata": {
    "ExecuteTime": {
     "end_time": "2024-10-30T01:09:06.970415Z",
     "start_time": "2024-10-30T01:09:06.965283Z"
    }
   },
   "cell_type": "code",
   "source": "data_cleaned = df.copy()",
   "id": "b213ed26b8ec267",
   "outputs": [],
   "execution_count": 13
  },
  {
   "metadata": {
    "ExecuteTime": {
     "end_time": "2024-10-30T01:09:09.567940Z",
     "start_time": "2024-10-30T01:09:09.539419Z"
    }
   },
   "cell_type": "code",
   "source": "data_cleaned.info()",
   "id": "a997c5b7e0f02e33",
   "outputs": [
    {
     "name": "stdout",
     "output_type": "stream",
     "text": [
      "<class 'pandas.core.frame.DataFrame'>\n",
      "RangeIndex: 6310 entries, 0 to 6309\n",
      "Data columns (total 42 columns):\n",
      " #   Column                      Non-Null Count  Dtype  \n",
      "---  ------                      --------------  -----  \n",
      " 0   Prix                        6310 non-null   int64  \n",
      " 1   Marque                      6310 non-null   float64\n",
      " 2   Modele                      6310 non-null   float64\n",
      " 3   Annee                       6310 non-null   float64\n",
      " 4   puissance_commerciale       6310 non-null   float64\n",
      " 5   puissance_fiscale           6310 non-null   float64\n",
      " 6   emission_de_co2             6310 non-null   float64\n",
      " 7   boite_de_vitesses_Manuelle  6310 non-null   float64\n",
      " 8   carrosserie                 6310 non-null   float64\n",
      " 9   longueur                    6310 non-null   float64\n",
      " 10  largeur                     6310 non-null   float64\n",
      " 11  empattement                 6310 non-null   float64\n",
      " 12  reservoir                   6310 non-null   float64\n",
      " 13  porte_a_faux_avant          6310 non-null   float64\n",
      " 14  porte_a_faux_arriere        6310 non-null   float64\n",
      " 15  voies_avant                 6310 non-null   float64\n",
      " 16  poids_a_vide                6310 non-null   float64\n",
      " 17  ptac                        6310 non-null   float64\n",
      " 18  ptra                        6310 non-null   float64\n",
      " 19  poids_tracte_freine         6310 non-null   float64\n",
      " 20  poids_tracte_non_freine     6310 non-null   float64\n",
      " 21  types_de_pneumatiques       6310 non-null   float64\n",
      " 22  taille_des_roues_avant      6310 non-null   float64\n",
      " 23  taille_des_roues_arriere    6310 non-null   float64\n",
      " 24  Cylindree                   6310 non-null   float64\n",
      " 25  Couple_maxi                 6310 non-null   float64\n",
      " 26  Nombre_de_soupapes          6310 non-null   float64\n",
      " 27  Puissance_reelle_maxi_kW    6310 non-null   float64\n",
      " 28  Alesage                     6310 non-null   float64\n",
      " 29  Course                      6310 non-null   float64\n",
      " 30  Architecture                6310 non-null   float64\n",
      " 31  Alimentation                6310 non-null   float64\n",
      " 32  Injection                   6310 non-null   float64\n",
      " 33  Disposition_du_moteur       6310 non-null   float64\n",
      " 34  Puissance_reelle_maxi_ch    6310 non-null   float64\n",
      " 35  Boite_de_vitesses           6310 non-null   float64\n",
      " 36  Mode_de_transmission        6310 non-null   float64\n",
      " 37  Vitesse_maximale            6310 non-null   float64\n",
      " 38  Mixte                       6310 non-null   float64\n",
      " 39  Emission_de_CO2             6310 non-null   float64\n",
      " 40  Cycle_urbain                6310 non-null   float64\n",
      " 41  Extra_urbain                6310 non-null   float64\n",
      "dtypes: float64(41), int64(1)\n",
      "memory usage: 2.0 MB\n"
     ]
    }
   ],
   "execution_count": 14
  },
  {
   "metadata": {},
   "cell_type": "markdown",
   "source": "## 1.7 Data Preparation",
   "id": "55bbeab8e8dd0c3f"
  },
  {
   "metadata": {},
   "cell_type": "markdown",
   "source": "#### 1.7.1 Features Extraction",
   "id": "1f8d38fde9836ad0"
  },
  {
   "metadata": {
    "ExecuteTime": {
     "end_time": "2024-10-30T01:09:14.577302Z",
     "start_time": "2024-10-30T01:09:14.572313Z"
    }
   },
   "cell_type": "code",
   "source": [
    "# Séparation des caractéristiques (features) et de la cible (target)\n",
    "X = data_cleaned.drop(columns=['Prix'])\n",
    "y = data_cleaned['Prix']"
   ],
   "id": "ea0b8e94b29838e8",
   "outputs": [],
   "execution_count": 15
  },
  {
   "metadata": {
    "ExecuteTime": {
     "end_time": "2024-10-30T01:09:17.886640Z",
     "start_time": "2024-10-30T01:09:17.880011Z"
    }
   },
   "cell_type": "code",
   "source": "y.shape",
   "id": "79b108236e78f870",
   "outputs": [
    {
     "data": {
      "text/plain": [
       "(6310,)"
      ]
     },
     "execution_count": 16,
     "metadata": {},
     "output_type": "execute_result"
    }
   ],
   "execution_count": 16
  },
  {
   "metadata": {
    "ExecuteTime": {
     "end_time": "2024-10-30T01:09:22.345709Z",
     "start_time": "2024-10-30T01:09:22.261736Z"
    }
   },
   "cell_type": "code",
   "source": [
    "from sklearn.model_selection import train_test_split\n",
    "\n",
    "# Mélanger les données avant la division\n",
    "X, y = shuffle(X, y, random_state=100)\n",
    "\n",
    "# Séparation des données en ensembles d'entraînement, de validation et de test\n",
    "X_train, X_temp, y_train, y_temp = train_test_split(X, y, test_size=0.3, random_state=42)\n",
    "X_val, X_test, y_val, y_test = train_test_split(X_temp, y_temp, test_size=0.5, random_state=42)\n",
    "\n",
    "X_train.shape, y_train.shape, X_test.shape, y_test.shape, X_val.shape, y_val.shape"
   ],
   "id": "bfb7794881e32ca4",
   "outputs": [
    {
     "data": {
      "text/plain": [
       "((4417, 41), (4417,), (947, 41), (947,), (946, 41), (946,))"
      ]
     },
     "execution_count": 17,
     "metadata": {},
     "output_type": "execute_result"
    }
   ],
   "execution_count": 17
  },
  {
   "metadata": {},
   "cell_type": "markdown",
   "source": "## 1.8 Normalizing",
   "id": "d7137eb4fd0fbe2f"
  },
  {
   "metadata": {
    "ExecuteTime": {
     "end_time": "2024-09-09T10:10:51.955078Z",
     "start_time": "2024-09-09T10:10:51.952277Z"
    }
   },
   "cell_type": "code",
   "source": [
    "# from sklearn.preprocessing import StandardScaler\n",
    "# \n",
    "# scaler = StandardScaler()\n",
    "# X_train_scaled = scaler.fit_transform(X_train)\n",
    "# X_val_scaled = scaler.transform(X_val)\n",
    "# X_test_scaled = scaler.transform(X_test)"
   ],
   "id": "772e627ce203d21e",
   "outputs": [],
   "execution_count": 19
  },
  {
   "metadata": {
    "ExecuteTime": {
     "end_time": "2024-09-09T10:10:51.959468Z",
     "start_time": "2024-09-09T10:10:51.956798Z"
    }
   },
   "cell_type": "code",
   "source": [
    "# from sklearn.preprocessing import MinMaxScaler\n",
    "# \n",
    "# scaler = MinMaxScaler()\n",
    "# X_train_scaled = scaler.fit_transform(X_train)\n",
    "# X_val_scaled = scaler.transform(X_val)\n",
    "# X_test_scaled = scaler.transform(X_test)"
   ],
   "id": "72443f30ee38e7d9",
   "outputs": [],
   "execution_count": 20
  },
  {
   "metadata": {},
   "cell_type": "markdown",
   "source": [
    "#### 1.7.2 Data Pipeline Components\n",
    "- Création du Dataset \n",
    "- Mélange des Données\n",
    "- Division en Mini-lots\n",
    "- Préchargement"
   ],
   "id": "99aef8a3653a58a1"
  },
  {
   "metadata": {
    "ExecuteTime": {
     "end_time": "2024-10-30T01:09:28.087993Z",
     "start_time": "2024-10-30T01:09:28.076501Z"
    }
   },
   "cell_type": "code",
   "source": [
    "def create_data_pipeline(X, y, batch_size=32, buffer_size=8):\n",
    "    \"\"\"\n",
    "    Crée un pipeline de données TensorFlow avec les étapes de prétraitement standard.\n",
    "\n",
    "    Args:\n",
    "        X (tf.Tensor or np.array): Données d'entrée.\n",
    "        y (tf.Tensor or np.array): Étiquettes cibles.\n",
    "        normalizer (tf.keras.layers.Normalization, optional): Objet de normalisation à appliquer.\n",
    "        batch_size (int): Taille des mini-lots.\n",
    "        buffer_size (int): Taille du tampon pour le mélange des données.\n",
    "\n",
    "    Returns:\n",
    "        tf.data.Dataset: Pipeline de données prêt à être utilisé pour l'entraînement.\n",
    "    \"\"\"\n",
    "    dataset = tf.data.Dataset.from_tensor_slices((X, y))\n",
    "\n",
    "    dataset = dataset.shuffle(buffer_size=buffer_size, reshuffle_each_iteration=True)\n",
    "    dataset = dataset.batch(batch_size)\n",
    "    dataset = dataset.prefetch(tf.data.AUTOTUNE)\n",
    "    \n",
    "    return dataset"
   ],
   "id": "f1a05158ee6640dc",
   "outputs": [],
   "execution_count": 18
  },
  {
   "metadata": {},
   "cell_type": "markdown",
   "source": "#### 1.7.3 Data Encoding |  Encodage Label",
   "id": "a7557bd2cfe3ec95"
  },
  {
   "metadata": {
    "ExecuteTime": {
     "end_time": "2024-09-09T10:10:51.970523Z",
     "start_time": "2024-09-09T10:10:51.967104Z"
    }
   },
   "cell_type": "code",
   "source": [
    "# numerical_cols = X.select_dtypes(include=['float64', 'int64']).columns\n",
    "# categorical_cols = X.select_dtypes(include=['object']).columns"
   ],
   "id": "87996f7f61695dc",
   "outputs": [],
   "execution_count": 22
  },
  {
   "metadata": {
    "ExecuteTime": {
     "end_time": "2024-09-09T10:10:51.980938Z",
     "start_time": "2024-09-09T10:10:51.977919Z"
    }
   },
   "cell_type": "code",
   "source": [
    "# from sklearn.preprocessing import StandardScaler, OneHotEncoder\n",
    "# from sklearn.compose import ColumnTransformer\n",
    "# from sklearn.pipeline import Pipeline\n",
    "# \n",
    "# # Création d'un pipeline d'encodage pour les colonnes catégorielles\n",
    "# preprocessor = ColumnTransformer(\n",
    "#     transformers=[\n",
    "#         ('cat_transform', OneHotEncoder(handle_unknown='ignore'), categorical_cols)\n",
    "#     ], remainder='passthrough')\n",
    "# \n",
    "# pipe = Pipeline(\n",
    "#     [\n",
    "#         ('col_tranform', preprocessor),\n",
    "#         ('standard_scaler', StandardScaler(with_mean=False))\n",
    "#     ])"
   ],
   "id": "29341ad4a329a2c0",
   "outputs": [],
   "execution_count": 23
  },
  {
   "metadata": {
    "ExecuteTime": {
     "end_time": "2024-09-09T10:10:51.985589Z",
     "start_time": "2024-09-09T10:10:51.982858Z"
    }
   },
   "cell_type": "code",
   "source": [
    "# # Appliquer le préprocesseur sur les données d'entraînement, validation, et test\n",
    "# X_train_processed = pipe.fit_transform(X_train)\n",
    "# X_val_processed = pipe.transform(X_val)      \n",
    "# X_test_processed = pipe.transform(X_test)"
   ],
   "id": "420d96bdcb87dfcc",
   "outputs": [],
   "execution_count": 24
  },
  {
   "metadata": {
    "ExecuteTime": {
     "end_time": "2024-09-09T10:10:51.990233Z",
     "start_time": "2024-09-09T10:10:51.987305Z"
    }
   },
   "cell_type": "code",
   "source": [
    "# # Convertir en tableau dense\n",
    "# X_train_dense = X_train_processed.toarray()\n",
    "# X_val_dense = X_val_processed.toarray()\n",
    "# X_test_dense = X_test_processed.toarray()"
   ],
   "id": "33a1a5aafacebc47",
   "outputs": [],
   "execution_count": 25
  },
  {
   "metadata": {},
   "cell_type": "markdown",
   "source": "#### 1.7.4 Converti en un objet tf.Tensor de TensorFlow",
   "id": "3c1ab688dfe32d6b"
  },
  {
   "metadata": {
    "ExecuteTime": {
     "end_time": "2024-10-30T01:09:37.650358Z",
     "start_time": "2024-10-30T01:09:37.582210Z"
    }
   },
   "cell_type": "code",
   "source": [
    "# Conversion des features en tenseurs TensorFlow\n",
    "X_train_tf = tf.constant(X_train, dtype=tf.float32)\n",
    "X_val_tf = tf.constant(X_val, dtype=tf.float32)\n",
    "X_test_tf = tf.constant(X_test, dtype=tf.float32)\n",
    "\n",
    "# Conversion des étiquettes (Prix ici) en tenseurs TensorFlow\n",
    "y_train_tf = tf.constant(y_train, dtype=tf.float32)\n",
    "y_val_tf = tf.constant(y_val, dtype=tf.float32)\n",
    "y_test_tf = tf.constant(y_test, dtype=tf.float32)\n",
    "\n",
    "# Ajustement de la dimension si nécessaire\n",
    "y_train_tf = tf.expand_dims(y_train_tf, axis=1)\n",
    "y_val_tf = tf.expand_dims(y_val_tf, axis=1)\n",
    "y_test_tf = tf.expand_dims(y_test_tf, axis=1)"
   ],
   "id": "8e117d7e2fe47b04",
   "outputs": [],
   "execution_count": 20
  },
  {
   "metadata": {
    "ExecuteTime": {
     "end_time": "2024-10-30T01:09:39.815670Z",
     "start_time": "2024-10-30T01:09:39.803169Z"
    }
   },
   "cell_type": "code",
   "source": [
    "y_train_tf_log = tf.math.log(y_train_tf + 1)\n",
    "y_val_tf_log = tf.math.log(y_val_tf + 1)\n",
    "y_test_tf_log = tf.math.log(y_test_tf + 1)"
   ],
   "id": "127a1a4120c2e89c",
   "outputs": [],
   "execution_count": 21
  },
  {
   "metadata": {
    "ExecuteTime": {
     "end_time": "2024-10-30T01:09:42.161295Z",
     "start_time": "2024-10-30T01:09:42.150191Z"
    }
   },
   "cell_type": "code",
   "source": "X_train_tf[:5]",
   "id": "a01ede347eace75e",
   "outputs": [
    {
     "data": {
      "text/plain": [
       "<tf.Tensor: shape=(5, 41), dtype=float32, numpy=\n",
       "array([[1.5242921e+07, 1.3283420e+07, 2.7236480e+07, 9.5000000e+01,\n",
       "        5.0000000e+00, 1.1800000e+02, 1.0000000e+00, 1.5662558e+07,\n",
       "        4.0599999e+00, 1.7800000e+00, 2.5599999e+00, 4.0000000e+01,\n",
       "        7.9600000e-01, 6.9900000e-01, 1.5250000e+00, 1.1280000e+03,\n",
       "        1.6400000e+03, 2.6400000e+03, 1.0000000e+03, 5.6000000e+02,\n",
       "        2.8948644e+07, 1.5734600e+07, 1.5814024e+07, 9.9900000e+02,\n",
       "        1.7500000e+02, 1.2000000e+01, 7.0000000e+01, 7.4500000e+01,\n",
       "        7.6400002e+01, 1.6131529e+07, 2.5432240e+07, 3.1460360e+07,\n",
       "        2.1681372e+07, 1.4827865e+07, 1.4065158e+07, 1.9470410e+07,\n",
       "        1.8600000e+02, 4.5799999e+00, 1.1800000e+02, 5.9600000e+00,\n",
       "        3.8199999e+00],\n",
       "       [2.0387486e+07, 2.2893750e+07, 2.2652442e+07, 1.2320000e+02,\n",
       "        1.0000000e+01, 1.4400000e+02, 1.0000000e+00, 1.5662558e+07,\n",
       "        4.4600000e+00, 1.7600000e+00, 2.6400001e+00, 5.5000000e+01,\n",
       "        8.2620001e-01, 7.7620000e-01, 1.5300000e+00, 1.3900000e+03,\n",
       "        1.9650000e+03, 3.1878000e+03, 1.5000000e+03, 6.0000000e+02,\n",
       "        2.0595608e+07, 2.1850508e+07, 2.1444032e+07, 2.1840000e+03,\n",
       "        4.0000000e+02, 1.6000000e+01, 1.3600000e+02, 8.6000000e+01,\n",
       "        9.4000000e+01, 2.3072342e+07, 2.6276016e+07, 2.6680972e+07,\n",
       "        2.1681372e+07, 2.5807700e+07, 2.4202374e+07, 1.9470410e+07,\n",
       "        2.1300000e+02, 5.4000001e+00, 1.4400000e+02, 6.9000001e+00,\n",
       "        4.5000000e+00],\n",
       "       [2.6925438e+07, 2.6362752e+07, 2.2318052e+07, 1.6320000e+02,\n",
       "        1.2000000e+01, 1.9900000e+02, 0.0000000e+00, 2.5809558e+07,\n",
       "        4.8200002e+00, 1.8600000e+00, 2.8199999e+00, 7.0000000e+01,\n",
       "        9.7799999e-01, 1.0200000e+00, 1.5880001e+00, 1.7070000e+03,\n",
       "        2.3100000e+03, 4.1110000e+03, 2.0000000e+03, 7.5000000e+02,\n",
       "        2.0595608e+07, 3.5894304e+07, 3.5794428e+07, 2.4000000e+03,\n",
       "        4.0000000e+02, 2.0000000e+01, 1.3600000e+02, 8.1000000e+01,\n",
       "        9.3099998e+01, 2.6012060e+07, 2.6276016e+07, 2.6680972e+07,\n",
       "        2.1681372e+07, 2.5807700e+07, 3.5024648e+07, 1.9470410e+07,\n",
       "        2.1500000e+02, 7.5000000e+00, 1.9900000e+02, 9.8000002e+00,\n",
       "        6.0000000e+00],\n",
       "       [1.9010684e+07, 2.5019582e+07, 2.7790114e+07, 1.7000000e+02,\n",
       "        1.0000000e+01, 1.6600000e+02, 1.0000000e+00, 2.3426412e+07,\n",
       "        4.9699998e+00, 1.9900000e+00, 2.9300001e+00, 7.0000000e+01,\n",
       "        1.0110000e+00, 1.0280000e+00, 1.6270000e+00, 2.1800000e+03,\n",
       "        3.1400000e+03, 5.1400000e+03, 2.0500000e+03, 7.5000000e+02,\n",
       "        2.8948644e+07, 2.4302606e+07, 2.4302606e+07, 1.9960000e+03,\n",
       "        4.0500000e+02, 1.6000000e+01, 1.2500000e+02, 8.4000000e+01,\n",
       "        9.0000000e+01, 2.3072342e+07, 2.6276016e+07, 1.2785061e+07,\n",
       "        2.1681372e+07, 2.8607188e+07, 2.4202374e+07, 1.9470410e+07,\n",
       "        2.0160001e+02, 6.8200002e+00, 1.6600000e+02, 9.1199999e+00,\n",
       "        5.6199999e+00],\n",
       "       [1.6585206e+07, 2.1822276e+07, 1.6530007e+07, 1.9400000e+02,\n",
       "        1.6000000e+01, 1.4580000e+02, 1.0000000e+00, 4.1974512e+07,\n",
       "        4.6199999e+00, 1.7800000e+00, 2.7000000e+00, 7.0000000e+01,\n",
       "        9.8500001e-01, 9.3000001e-01, 1.5110000e+00, 1.4640000e+03,\n",
       "        1.7990000e+03, 3.0990000e+03, 1.3000000e+03, 7.2900000e+02,\n",
       "        2.0595608e+07, 2.1964324e+07, 2.1964324e+07, 2.9460000e+03,\n",
       "        2.6700000e+02, 2.4000000e+01, 1.4000000e+02, 8.7000000e+01,\n",
       "        8.2599998e+01, 3.9761696e+07, 1.9406938e+07, 1.8940612e+07,\n",
       "        2.1681372e+07, 2.7098566e+07, 1.4065158e+07, 1.9470410e+07,\n",
       "        2.3500000e+02, 1.0900000e+01, 2.6000000e+02, 1.5900000e+01,\n",
       "        8.0000000e+00]], dtype=float32)>"
      ]
     },
     "execution_count": 22,
     "metadata": {},
     "output_type": "execute_result"
    }
   ],
   "execution_count": 22
  },
  {
   "metadata": {
    "ExecuteTime": {
     "end_time": "2024-10-30T01:09:46.109287Z",
     "start_time": "2024-10-30T01:09:46.068969Z"
    }
   },
   "cell_type": "code",
   "source": [
    "# Créer la couche de normalisation\n",
    "normalizer = tf.keras.layers.Normalization(axis=-1)\n",
    "# Adapter la normalisation aux données d'entraînement\n",
    "normalizer.adapt(X_train_tf)"
   ],
   "id": "7189625413b77123",
   "outputs": [],
   "execution_count": 23
  },
  {
   "metadata": {
    "ExecuteTime": {
     "end_time": "2024-10-30T01:09:48.383032Z",
     "start_time": "2024-10-30T01:09:48.377140Z"
    }
   },
   "cell_type": "code",
   "source": "y_train_tf.shape",
   "id": "577f56b2aa7c6879",
   "outputs": [
    {
     "data": {
      "text/plain": [
       "TensorShape([4417, 1])"
      ]
     },
     "execution_count": 24,
     "metadata": {},
     "output_type": "execute_result"
    }
   ],
   "execution_count": 24
  },
  {
   "metadata": {
    "ExecuteTime": {
     "end_time": "2024-10-30T01:09:51.208941Z",
     "start_time": "2024-10-30T01:09:51.202227Z"
    }
   },
   "cell_type": "code",
   "source": "y_train_tf[:5, :]",
   "id": "e53b74ab26998fb2",
   "outputs": [
    {
     "data": {
      "text/plain": [
       "<tf.Tensor: shape=(5, 1), dtype=float32, numpy=\n",
       "array([[12919221.],\n",
       "       [17325776.],\n",
       "       [30378530.],\n",
       "       [24589918.],\n",
       "       [23868176.]], dtype=float32)>"
      ]
     },
     "execution_count": 25,
     "metadata": {},
     "output_type": "execute_result"
    }
   ],
   "execution_count": 25
  },
  {
   "metadata": {},
   "cell_type": "markdown",
   "source": "#### 1.7.5 Créez les pipelines de données",
   "id": "ede66749c087f828"
  },
  {
   "metadata": {
    "ExecuteTime": {
     "end_time": "2024-10-30T01:09:54.086791Z",
     "start_time": "2024-10-30T01:09:54.053011Z"
    }
   },
   "cell_type": "code",
   "source": [
    "# Créez les pipelines de données\n",
    "batch_size = 32\n",
    "buffer_size = 1000\n",
    "\n",
    "train_dataset = create_data_pipeline(X_train_tf, y_train_tf_log, batch_size=batch_size, buffer_size=buffer_size)\n",
    "val_dataset = create_data_pipeline(X_val_tf, y_val_tf_log, batch_size=batch_size, buffer_size=buffer_size)\n",
    "test_dataset = create_data_pipeline(X_test_tf, y_test_tf_log, batch_size=batch_size, buffer_size=buffer_size)"
   ],
   "id": "600e45303bed7251",
   "outputs": [],
   "execution_count": 26
  },
  {
   "metadata": {},
   "cell_type": "markdown",
   "source": "## 2. Build Model",
   "id": "a0c5e1d14882baaf"
  },
  {
   "metadata": {},
   "cell_type": "markdown",
   "source": "### 2.1 Modele with normalizer",
   "id": "b3bef9694e54ce7f"
  },
  {
   "metadata": {
    "ExecuteTime": {
     "end_time": "2024-10-30T01:10:01.503625Z",
     "start_time": "2024-10-30T01:10:01.403491Z"
    }
   },
   "cell_type": "code",
   "source": [
    "# Définition de la forme d'entrée en utilisant Input()\n",
    "input_shape = (X_train_tf.shape[1],)\n",
    "\n",
    "model = tf.keras.Sequential()\n",
    "model.add(layers.Input(shape=input_shape))\n",
    "model.add(normalizer)\n",
    "model.add(layers.Dense(256, activation='relu', kernel_regularizer=tf.keras.regularizers.l2(0.001)))\n",
    "layers.Dropout(0.2)\n",
    "model.add(layers.Dense(128, activation='relu'))\n",
    "model.add(layers.Dense(128, activation='relu'))\n",
    "layers.Dropout(0.2)\n",
    "model.add(layers.Dense(64, activation='relu'))\n",
    "model.add(layers.Dense(1))\n",
    "\n",
    "model.summary()"
   ],
   "id": "44d62020b7c46e1b",
   "outputs": [
    {
     "data": {
      "text/plain": [
       "\u001B[1mModel: \"sequential\"\u001B[0m\n"
      ],
      "text/html": [
       "<pre style=\"white-space:pre;overflow-x:auto;line-height:normal;font-family:Menlo,'DejaVu Sans Mono',consolas,'Courier New',monospace\"><span style=\"font-weight: bold\">Model: \"sequential\"</span>\n",
       "</pre>\n"
      ]
     },
     "metadata": {},
     "output_type": "display_data"
    },
    {
     "data": {
      "text/plain": [
       "┏━━━━━━━━━━━━━━━━━━━━━━━━━━━━━━━━━┳━━━━━━━━━━━━━━━━━━━━━━━━┳━━━━━━━━━━━━━━━┓\n",
       "┃\u001B[1m \u001B[0m\u001B[1mLayer (type)                   \u001B[0m\u001B[1m \u001B[0m┃\u001B[1m \u001B[0m\u001B[1mOutput Shape          \u001B[0m\u001B[1m \u001B[0m┃\u001B[1m \u001B[0m\u001B[1m      Param #\u001B[0m\u001B[1m \u001B[0m┃\n",
       "┡━━━━━━━━━━━━━━━━━━━━━━━━━━━━━━━━━╇━━━━━━━━━━━━━━━━━━━━━━━━╇━━━━━━━━━━━━━━━┩\n",
       "│ normalization (\u001B[38;5;33mNormalization\u001B[0m)   │ (\u001B[38;5;45mNone\u001B[0m, \u001B[38;5;34m41\u001B[0m)             │            \u001B[38;5;34m83\u001B[0m │\n",
       "├─────────────────────────────────┼────────────────────────┼───────────────┤\n",
       "│ dense (\u001B[38;5;33mDense\u001B[0m)                   │ (\u001B[38;5;45mNone\u001B[0m, \u001B[38;5;34m256\u001B[0m)            │        \u001B[38;5;34m10,752\u001B[0m │\n",
       "├─────────────────────────────────┼────────────────────────┼───────────────┤\n",
       "│ dense_1 (\u001B[38;5;33mDense\u001B[0m)                 │ (\u001B[38;5;45mNone\u001B[0m, \u001B[38;5;34m128\u001B[0m)            │        \u001B[38;5;34m32,896\u001B[0m │\n",
       "├─────────────────────────────────┼────────────────────────┼───────────────┤\n",
       "│ dense_2 (\u001B[38;5;33mDense\u001B[0m)                 │ (\u001B[38;5;45mNone\u001B[0m, \u001B[38;5;34m128\u001B[0m)            │        \u001B[38;5;34m16,512\u001B[0m │\n",
       "├─────────────────────────────────┼────────────────────────┼───────────────┤\n",
       "│ dense_3 (\u001B[38;5;33mDense\u001B[0m)                 │ (\u001B[38;5;45mNone\u001B[0m, \u001B[38;5;34m64\u001B[0m)             │         \u001B[38;5;34m8,256\u001B[0m │\n",
       "├─────────────────────────────────┼────────────────────────┼───────────────┤\n",
       "│ dense_4 (\u001B[38;5;33mDense\u001B[0m)                 │ (\u001B[38;5;45mNone\u001B[0m, \u001B[38;5;34m1\u001B[0m)              │            \u001B[38;5;34m65\u001B[0m │\n",
       "└─────────────────────────────────┴────────────────────────┴───────────────┘\n"
      ],
      "text/html": [
       "<pre style=\"white-space:pre;overflow-x:auto;line-height:normal;font-family:Menlo,'DejaVu Sans Mono',consolas,'Courier New',monospace\">┏━━━━━━━━━━━━━━━━━━━━━━━━━━━━━━━━━┳━━━━━━━━━━━━━━━━━━━━━━━━┳━━━━━━━━━━━━━━━┓\n",
       "┃<span style=\"font-weight: bold\"> Layer (type)                    </span>┃<span style=\"font-weight: bold\"> Output Shape           </span>┃<span style=\"font-weight: bold\">       Param # </span>┃\n",
       "┡━━━━━━━━━━━━━━━━━━━━━━━━━━━━━━━━━╇━━━━━━━━━━━━━━━━━━━━━━━━╇━━━━━━━━━━━━━━━┩\n",
       "│ normalization (<span style=\"color: #0087ff; text-decoration-color: #0087ff\">Normalization</span>)   │ (<span style=\"color: #00d7ff; text-decoration-color: #00d7ff\">None</span>, <span style=\"color: #00af00; text-decoration-color: #00af00\">41</span>)             │            <span style=\"color: #00af00; text-decoration-color: #00af00\">83</span> │\n",
       "├─────────────────────────────────┼────────────────────────┼───────────────┤\n",
       "│ dense (<span style=\"color: #0087ff; text-decoration-color: #0087ff\">Dense</span>)                   │ (<span style=\"color: #00d7ff; text-decoration-color: #00d7ff\">None</span>, <span style=\"color: #00af00; text-decoration-color: #00af00\">256</span>)            │        <span style=\"color: #00af00; text-decoration-color: #00af00\">10,752</span> │\n",
       "├─────────────────────────────────┼────────────────────────┼───────────────┤\n",
       "│ dense_1 (<span style=\"color: #0087ff; text-decoration-color: #0087ff\">Dense</span>)                 │ (<span style=\"color: #00d7ff; text-decoration-color: #00d7ff\">None</span>, <span style=\"color: #00af00; text-decoration-color: #00af00\">128</span>)            │        <span style=\"color: #00af00; text-decoration-color: #00af00\">32,896</span> │\n",
       "├─────────────────────────────────┼────────────────────────┼───────────────┤\n",
       "│ dense_2 (<span style=\"color: #0087ff; text-decoration-color: #0087ff\">Dense</span>)                 │ (<span style=\"color: #00d7ff; text-decoration-color: #00d7ff\">None</span>, <span style=\"color: #00af00; text-decoration-color: #00af00\">128</span>)            │        <span style=\"color: #00af00; text-decoration-color: #00af00\">16,512</span> │\n",
       "├─────────────────────────────────┼────────────────────────┼───────────────┤\n",
       "│ dense_3 (<span style=\"color: #0087ff; text-decoration-color: #0087ff\">Dense</span>)                 │ (<span style=\"color: #00d7ff; text-decoration-color: #00d7ff\">None</span>, <span style=\"color: #00af00; text-decoration-color: #00af00\">64</span>)             │         <span style=\"color: #00af00; text-decoration-color: #00af00\">8,256</span> │\n",
       "├─────────────────────────────────┼────────────────────────┼───────────────┤\n",
       "│ dense_4 (<span style=\"color: #0087ff; text-decoration-color: #0087ff\">Dense</span>)                 │ (<span style=\"color: #00d7ff; text-decoration-color: #00d7ff\">None</span>, <span style=\"color: #00af00; text-decoration-color: #00af00\">1</span>)              │            <span style=\"color: #00af00; text-decoration-color: #00af00\">65</span> │\n",
       "└─────────────────────────────────┴────────────────────────┴───────────────┘\n",
       "</pre>\n"
      ]
     },
     "metadata": {},
     "output_type": "display_data"
    },
    {
     "data": {
      "text/plain": [
       "\u001B[1m Total params: \u001B[0m\u001B[38;5;34m68,564\u001B[0m (267.83 KB)\n"
      ],
      "text/html": [
       "<pre style=\"white-space:pre;overflow-x:auto;line-height:normal;font-family:Menlo,'DejaVu Sans Mono',consolas,'Courier New',monospace\"><span style=\"font-weight: bold\"> Total params: </span><span style=\"color: #00af00; text-decoration-color: #00af00\">68,564</span> (267.83 KB)\n",
       "</pre>\n"
      ]
     },
     "metadata": {},
     "output_type": "display_data"
    },
    {
     "data": {
      "text/plain": [
       "\u001B[1m Trainable params: \u001B[0m\u001B[38;5;34m68,481\u001B[0m (267.50 KB)\n"
      ],
      "text/html": [
       "<pre style=\"white-space:pre;overflow-x:auto;line-height:normal;font-family:Menlo,'DejaVu Sans Mono',consolas,'Courier New',monospace\"><span style=\"font-weight: bold\"> Trainable params: </span><span style=\"color: #00af00; text-decoration-color: #00af00\">68,481</span> (267.50 KB)\n",
       "</pre>\n"
      ]
     },
     "metadata": {},
     "output_type": "display_data"
    },
    {
     "data": {
      "text/plain": [
       "\u001B[1m Non-trainable params: \u001B[0m\u001B[38;5;34m83\u001B[0m (336.00 B)\n"
      ],
      "text/html": [
       "<pre style=\"white-space:pre;overflow-x:auto;line-height:normal;font-family:Menlo,'DejaVu Sans Mono',consolas,'Courier New',monospace\"><span style=\"font-weight: bold\"> Non-trainable params: </span><span style=\"color: #00af00; text-decoration-color: #00af00\">83</span> (336.00 B)\n",
       "</pre>\n"
      ]
     },
     "metadata": {},
     "output_type": "display_data"
    }
   ],
   "execution_count": 27
  },
  {
   "metadata": {
    "ExecuteTime": {
     "end_time": "2024-10-30T01:10:06.768224Z",
     "start_time": "2024-10-30T01:10:06.765213Z"
    }
   },
   "cell_type": "code",
   "source": [
    "learning_rate = 0.0001\n",
    "epochs = 10"
   ],
   "id": "585b794872a748b",
   "outputs": [],
   "execution_count": 28
  },
  {
   "metadata": {
    "ExecuteTime": {
     "end_time": "2024-10-30T01:10:09.359834Z",
     "start_time": "2024-10-30T01:10:09.340938Z"
    }
   },
   "cell_type": "code",
   "source": [
    "# Compilation du modèle avec une perte de type Mean Squared Error (MSE) pour la régression\n",
    "optimizer = tf.keras.optimizers.Adam(learning_rate=learning_rate)\n",
    "model.compile(optimizer=optimizer,\n",
    "              loss='mean_squared_logarithmic_error',\n",
    "              metrics=['mae'])"
   ],
   "id": "70d4212c8b4a2bd9",
   "outputs": [],
   "execution_count": 29
  },
  {
   "metadata": {
    "ExecuteTime": {
     "end_time": "2024-10-30T01:10:12.594408Z",
     "start_time": "2024-10-30T01:10:12.590150Z"
    }
   },
   "cell_type": "code",
   "source": [
    "steps_per_epoch = len(X_train_tf) // batch_size\n",
    "validation_steps = len(X_val_tf) // batch_size"
   ],
   "id": "23a3b656472d2d9e",
   "outputs": [],
   "execution_count": 30
  },
  {
   "metadata": {},
   "cell_type": "code",
   "source": [
    "mlflow.tensorflow.autolog()\n",
    "with mlflow.start_run(run_name=\"vehicle_predict_tensorflow\") as run:\n",
    "    history = model.fit(\n",
    "        train_dataset,\n",
    "        validation_data=val_dataset,\n",
    "        epochs=100,\n",
    "        # steps_per_epoch=steps_per_epoch,\n",
    "        # validation_steps=validation_steps,\n",
    "        callbacks=[tf.keras.callbacks.EarlyStopping(monitor='val_loss', patience=5)],\n",
    "        verbose=1\n",
    "    )"
   ],
   "id": "e08b5fca609a03af",
   "outputs": [],
   "execution_count": null
  },
  {
   "metadata": {
    "ExecuteTime": {
     "end_time": "2024-10-30T01:12:22.457352Z",
     "start_time": "2024-10-30T01:12:22.338228Z"
    }
   },
   "cell_type": "code",
   "source": "model.evaluate(X_test_tf, y_test_tf_log)",
   "id": "c5762b69a6e5d05e",
   "outputs": [
    {
     "name": "stdout",
     "output_type": "stream",
     "text": [
      "\u001B[1m30/30\u001B[0m \u001B[32m━━━━━━━━━━━━━━━━━━━━\u001B[0m\u001B[37m\u001B[0m \u001B[1m0s\u001B[0m 1ms/step - loss: 1.3668e-04 - mae: 0.1565 \n"
     ]
    },
    {
     "data": {
      "text/plain": [
       "[0.0001424841902917251, 0.16095459461212158]"
      ]
     },
     "execution_count": 32,
     "metadata": {},
     "output_type": "execute_result"
    }
   ],
   "execution_count": 32
  },
  {
   "metadata": {
    "ExecuteTime": {
     "end_time": "2024-10-30T01:12:26.703315Z",
     "start_time": "2024-10-30T01:12:26.466444Z"
    }
   },
   "cell_type": "code",
   "source": [
    "y_pred_log = model.predict(X_test_tf)\n",
    "y_pred = tf.exp(y_pred_log) - 1"
   ],
   "id": "cde7a2417f6f76a0",
   "outputs": [
    {
     "name": "stdout",
     "output_type": "stream",
     "text": [
      "\u001B[1m30/30\u001B[0m \u001B[32m━━━━━━━━━━━━━━━━━━━━\u001B[0m\u001B[37m\u001B[0m \u001B[1m0s\u001B[0m 1ms/step \n"
     ]
    }
   ],
   "execution_count": 33
  },
  {
   "metadata": {
    "ExecuteTime": {
     "end_time": "2024-10-30T01:12:30.585817Z",
     "start_time": "2024-10-30T01:12:30.568321Z"
    }
   },
   "cell_type": "code",
   "source": [
    "y_pred_flat = y_pred[:10].numpy().ravel()\n",
    "df = pd.DataFrame({'Valeur Prédite': y_pred_flat, 'Valeur Réelle': y_test[:10]})\n",
    "df.head(10)"
   ],
   "id": "7cdc56e7950dde1",
   "outputs": [
    {
     "data": {
      "text/plain": [
       "      Valeur Prédite  Valeur Réelle\n",
       "2285      20305932.0       25537995\n",
       "3583      34247656.0       34050660\n",
       "588        5942553.0        7077196\n",
       "4947      14678829.0       18260501\n",
       "3070      14493185.0       16424436\n",
       "1453       6136138.5        7340922\n",
       "6269      12863194.0       14758624\n",
       "4286      39310540.0       46990578\n",
       "4402      14947174.0       18734540\n",
       "4388      14941844.0       19295374"
      ],
      "text/html": [
       "<div>\n",
       "<style scoped>\n",
       "    .dataframe tbody tr th:only-of-type {\n",
       "        vertical-align: middle;\n",
       "    }\n",
       "\n",
       "    .dataframe tbody tr th {\n",
       "        vertical-align: top;\n",
       "    }\n",
       "\n",
       "    .dataframe thead th {\n",
       "        text-align: right;\n",
       "    }\n",
       "</style>\n",
       "<table border=\"1\" class=\"dataframe\">\n",
       "  <thead>\n",
       "    <tr style=\"text-align: right;\">\n",
       "      <th></th>\n",
       "      <th>Valeur Prédite</th>\n",
       "      <th>Valeur Réelle</th>\n",
       "    </tr>\n",
       "  </thead>\n",
       "  <tbody>\n",
       "    <tr>\n",
       "      <th>2285</th>\n",
       "      <td>20305932.0</td>\n",
       "      <td>25537995</td>\n",
       "    </tr>\n",
       "    <tr>\n",
       "      <th>3583</th>\n",
       "      <td>34247656.0</td>\n",
       "      <td>34050660</td>\n",
       "    </tr>\n",
       "    <tr>\n",
       "      <th>588</th>\n",
       "      <td>5942553.0</td>\n",
       "      <td>7077196</td>\n",
       "    </tr>\n",
       "    <tr>\n",
       "      <th>4947</th>\n",
       "      <td>14678829.0</td>\n",
       "      <td>18260501</td>\n",
       "    </tr>\n",
       "    <tr>\n",
       "      <th>3070</th>\n",
       "      <td>14493185.0</td>\n",
       "      <td>16424436</td>\n",
       "    </tr>\n",
       "    <tr>\n",
       "      <th>1453</th>\n",
       "      <td>6136138.5</td>\n",
       "      <td>7340922</td>\n",
       "    </tr>\n",
       "    <tr>\n",
       "      <th>6269</th>\n",
       "      <td>12863194.0</td>\n",
       "      <td>14758624</td>\n",
       "    </tr>\n",
       "    <tr>\n",
       "      <th>4286</th>\n",
       "      <td>39310540.0</td>\n",
       "      <td>46990578</td>\n",
       "    </tr>\n",
       "    <tr>\n",
       "      <th>4402</th>\n",
       "      <td>14947174.0</td>\n",
       "      <td>18734540</td>\n",
       "    </tr>\n",
       "    <tr>\n",
       "      <th>4388</th>\n",
       "      <td>14941844.0</td>\n",
       "      <td>19295374</td>\n",
       "    </tr>\n",
       "  </tbody>\n",
       "</table>\n",
       "</div>"
      ]
     },
     "execution_count": 34,
     "metadata": {},
     "output_type": "execute_result"
    }
   ],
   "execution_count": 34
  },
  {
   "metadata": {
    "ExecuteTime": {
     "end_time": "2024-10-30T01:12:58.228870Z",
     "start_time": "2024-10-30T01:12:46.805049Z"
    }
   },
   "cell_type": "code",
   "source": [
    "example_input = np.array(X_test_tf[:5])\n",
    "example_output = np.array(y_pred[:5])\n",
    "\n",
    "# Inférez la signature à partir des exemples d'entrée\n",
    "signature = infer_signature(example_input, example_output)\n",
    "mlflow.keras.log_model(model, \"model_tennsorflow\", signature=signature)"
   ],
   "id": "11947a0dc0d2b7cf",
   "outputs": [
    {
     "data": {
      "text/plain": [
       "<mlflow.models.model.ModelInfo at 0x14ece7fe0>"
      ]
     },
     "execution_count": 35,
     "metadata": {},
     "output_type": "execute_result"
    }
   ],
   "execution_count": 35
  },
  {
   "metadata": {
    "ExecuteTime": {
     "end_time": "2024-10-30T01:13:12.336800Z",
     "start_time": "2024-10-30T01:13:11.859427Z"
    }
   },
   "cell_type": "code",
   "source": [
    "fig = plt.figure(figsize=(12,6))\n",
    "plt.plot(history.history['loss'])\n",
    "plt.plot(history.history['val_loss'])\n",
    "plt.title(\"model Loss\")\n",
    "plt.ylabel('loss')\n",
    "plt.xlabel('epochs')\n",
    "plt.legend(['train','val_loss'])\n",
    "plt.show()"
   ],
   "id": "8887b325e306947",
   "outputs": [
    {
     "data": {
      "text/plain": [
       "<Figure size 1200x600 with 1 Axes>"
      ],
      "image/png": "[encoded data removed]"
     },
     "metadata": {},
     "output_type": "display_data"
    }
   ],
   "execution_count": 36
  },
  {
   "metadata": {
    "ExecuteTime": {
     "end_time": "2024-10-30T01:13:17.337874Z",
     "start_time": "2024-10-30T01:13:17.072278Z"
    }
   },
   "cell_type": "code",
   "source": [
    "fig = plt.figure(figsize=(12,6))\n",
    "plt.plot(history.history['mae'])\n",
    "plt.plot(history.history['val_mae'])\n",
    "plt.title('model performance')\n",
    "plt.ylabel('rmse')\n",
    "plt.xlabel('epoch')\n",
    "plt.legend(['train', 'val'])\n",
    "plt.show()"
   ],
   "id": "f455709ffaa9ee9e",
   "outputs": [
    {
     "data": {
      "text/plain": [
       "<Figure size 1200x600 with 1 Axes>"
      ],
      "image/png": "[encoded data removed]"
     },
     "metadata": {},
     "output_type": "display_data"
    }
   ],
   "execution_count": 37
  },
  {
   "metadata": {
    "ExecuteTime": {
     "end_time": "2024-10-30T01:13:29.281573Z",
     "start_time": "2024-10-30T01:13:29.232338Z"
    }
   },
   "cell_type": "code",
   "source": "mlflow.end_run()",
   "id": "6b90cd25ca42279f",
   "outputs": [
    {
     "name": "stderr",
     "output_type": "stream",
     "text": [
      "2024/10/30 01:13:29 INFO mlflow.tracking._tracking_service.client: 🏃 View run rebellious-lynx-817 at: http://localhost:5000/#/experiments/9/runs/770a6f0740034fc29e07a8761ec77439.\n",
      "2024/10/30 01:13:29 INFO mlflow.tracking._tracking_service.client: 🧪 View experiment at: http://localhost:5000/#/experiments/9.\n"
     ]
    }
   ],
   "execution_count": 38
  },
  {
   "metadata": {},
   "cell_type": "code",
   "source": "",
   "id": "4dc6df60997926d0",
   "outputs": [],
   "execution_count": null
  },
  {
   "metadata": {},
   "cell_type": "code",
   "source": "",
   "id": "982e820a780bbc49",
   "outputs": [],
   "execution_count": null
  },
  {
   "metadata": {},
   "cell_type": "code",
   "source": "",
   "id": "670707721395b1bc",
   "outputs": [],
   "execution_count": null
  },
  {
   "metadata": {},
   "cell_type": "code",
   "source": [
    "# def display_folder_structure(folder, level=0):\n",
    "#     for item in os.listdir(folder):\n",
    "#         path = os.path.join(folder, item)\n",
    "#         print(\"  \" * level + \"|-- \" + item)\n",
    "#         if os.path.isdir(path):\n",
    "#             display_folder_structure(path, level + 1)"
   ],
   "id": "e4df35ea1a3dc1a9",
   "outputs": [],
   "execution_count": null
  },
  {
   "metadata": {},
   "cell_type": "code",
   "source": "",
   "id": "6c63cfaa2bedbf79",
   "outputs": [],
   "execution_count": null
  },
  {
   "metadata": {},
   "cell_type": "code",
   "source": "",
   "id": "9ed60915de9be22c",
   "outputs": [],
   "execution_count": null
  },
  {
   "metadata": {},
   "cell_type": "code",
   "source": "",
   "id": "37db70a389a5b795",
   "outputs": [],
   "execution_count": null
  },
  {
   "metadata": {},
   "cell_type": "code",
   "source": "# tf.keras.utils.plot_model(model, to_file = \"model.png\", show_shapes=True)",
   "id": "332958530dd8569a",
   "outputs": [],
   "execution_count": null
  },
  {
   "metadata": {},
   "cell_type": "markdown",
   "source": "### 2.2 Build Model with Search Hyperparameters",
   "id": "2113ce2724c8d1f3"
  },
  {
   "metadata": {
    "ExecuteTime": {
     "end_time": "2024-09-09T10:20:41.546966Z",
     "start_time": "2024-09-09T10:20:41.499820Z"
    }
   },
   "cell_type": "code",
   "source": [
    "def build_model(hp):\n",
    "    try:\n",
    "        # Choisissez une valeur optimale pour chaque couche\n",
    "        dense_1_units = hp.Int('dense_1_units', min_value=32, max_value=128, step=32)\n",
    "        dense_2_units = hp.Int('dense_2_units', min_value=16, max_value=64, step=32)\n",
    "        dense_3_units = hp.Int('dense_3_units', min_value=8, max_value=32, step=32)\n",
    "    \n",
    "        # Définir le taux de dropout\n",
    "        dropout_rate = hp.Float('dropout_rate', min_value=0.0, max_value=0.5, step=0.1)\n",
    "        \n",
    "        # Réglez le taux d'apprentissage de l'optimiseur\n",
    "        # Choisissez une valeur optimale entre 0,01, 0,001 ou 0,0001\n",
    "        hp_learning_rate = hp.Float('learning_rate', min_value=1e-4, max_value=1e-2, sampling='log')\n",
    "    \n",
    "        # Créer le modèle séquentiel\n",
    "        model_ = tf.keras.Sequential([\n",
    "            Input(shape=(52,)),\n",
    "            Dense(dense_1_units, activation=ReLU()),\n",
    "            Dense(dense_2_units, activation=ReLU()),\n",
    "            Dropout(dropout_rate),\n",
    "            Dense(dense_3_units, activation=ReLU()),\n",
    "            Dense(1)\n",
    "        ])\n",
    "    \n",
    "        # Compiler le modèle\n",
    "        model_.compile(optimizer=Adam(learning_rate=hp_learning_rate),\n",
    "                       loss=MeanAbsoluteError(),\n",
    "                       metrics=['root_mean_squared_error'])\n",
    "    \n",
    "        return model_\n",
    "    except Exception as e:\n",
    "        print(f\"Error in build_model: {e}\")\n",
    "        raise e"
   ],
   "id": "ce455c22b9ff6934",
   "outputs": [],
   "execution_count": 46
  },
  {
   "metadata": {},
   "cell_type": "markdown",
   "source": "#### 2.1 Définir les paramètres de la grille",
   "id": "6201df404240fe1f"
  },
  {
   "metadata": {},
   "cell_type": "markdown",
   "source": "#### Définir un Hyperband tuner et rechercher les hyperparamètres",
   "id": "1a68066ad74aa93f"
  },
  {
   "metadata": {
    "ExecuteTime": {
     "end_time": "2024-09-09T10:20:48.753296Z",
     "start_time": "2024-09-09T10:20:46.784089Z"
    }
   },
   "cell_type": "code",
   "source": [
    "tuner = kt.Hyperband(\n",
    "    model,\n",
    "    objective='val_root_mean_squared_error',\n",
    "    max_epochs=epochs,\n",
    "    factor=3,\n",
    "    directory='../vehicle_prediction',  # Dossier pour enregistrer les résultats\n",
    "    project_name='vehicle_prediction'\n",
    ")\n",
    "\n",
    "# Callback pour enregistrer les résultats dans MLflow\n",
    "mlflow_callback = tf.keras.callbacks.LambdaCallback(\n",
    "    on_epoch_end=lambda epoch, logs: mlflow.log_metrics(logs, step=epoch)\n",
    ")\n",
    "\n",
    "# Définir un callback pour arrêter la recherche si la performance ne s'améliore pas\n",
    "stop_early = tf.keras.callbacks.EarlyStopping(monitor='val_loss', patience=5)\n",
    "\n",
    "# Lancer la recherche des hyperparamètres\n",
    "tuner.search(train_dataset, epochs=epochs, validation_data=val_dataset, callbacks=[stop_early, mlflow_callback])\n",
    "\n",
    "best_hps = tuner.get_best_hyperparameters(num_trials=1)[0]\n",
    "\n",
    "# Enregistrer les meilleurs hyperparamètres dans MLflow\n",
    "mlflow.log_params({\n",
    "    'dense_1_units': best_hps.get('dense_1_units'),\n",
    "    'dense_2_units': best_hps.get('dense_2_units'),\n",
    "    'dropout_rate': best_hps.get('dropout_rate'),\n",
    "    'learning_rate': best_hps.get('learning_rate')\n",
    "})\n",
    "\n",
    "print(f\"\"\"\n",
    "La recherche d'hyperparamètres est terminée. Le nombre optimal d'unités dans la première\n",
    "couche densément connectée est {best_hps.get('units')} et le taux d'apprentissage optimal pour l'optimiseur\n",
    "est {best_hps.get('learning_rate')}.\n",
    "\"\"\")"
   ],
   "id": "5e4097a41449ed12",
   "outputs": [
    {
     "ename": "ValueError",
     "evalue": "Only input tensors may be passed as positional arguments. The following argument value should be passed as a keyword argument: <keras_tuner.src.engine.hyperparameters.hyperparameters.HyperParameters object at 0x1503c75f0> (of type <class 'keras_tuner.src.engine.hyperparameters.hyperparameters.HyperParameters'>)",
     "output_type": "error",
     "traceback": [
      "\u001B[0;31m---------------------------------------------------------------------------\u001B[0m",
      "\u001B[0;31mValueError\u001B[0m                                Traceback (most recent call last)",
      "Cell \u001B[0;32mIn[47], line 1\u001B[0m\n\u001B[0;32m----> 1\u001B[0m tuner \u001B[38;5;241m=\u001B[39m \u001B[43mkt\u001B[49m\u001B[38;5;241;43m.\u001B[39;49m\u001B[43mHyperband\u001B[49m\u001B[43m(\u001B[49m\n\u001B[1;32m      2\u001B[0m \u001B[43m    \u001B[49m\u001B[43mmodel\u001B[49m\u001B[43m,\u001B[49m\n\u001B[1;32m      3\u001B[0m \u001B[43m    \u001B[49m\u001B[43mobjective\u001B[49m\u001B[38;5;241;43m=\u001B[39;49m\u001B[38;5;124;43m'\u001B[39;49m\u001B[38;5;124;43mval_root_mean_squared_error\u001B[39;49m\u001B[38;5;124;43m'\u001B[39;49m\u001B[43m,\u001B[49m\n\u001B[1;32m      4\u001B[0m \u001B[43m    \u001B[49m\u001B[43mmax_epochs\u001B[49m\u001B[38;5;241;43m=\u001B[39;49m\u001B[43mepochs\u001B[49m\u001B[43m,\u001B[49m\n\u001B[1;32m      5\u001B[0m \u001B[43m    \u001B[49m\u001B[43mfactor\u001B[49m\u001B[38;5;241;43m=\u001B[39;49m\u001B[38;5;241;43m3\u001B[39;49m\u001B[43m,\u001B[49m\n\u001B[1;32m      6\u001B[0m \u001B[43m    \u001B[49m\u001B[43mdirectory\u001B[49m\u001B[38;5;241;43m=\u001B[39;49m\u001B[38;5;124;43m'\u001B[39;49m\u001B[38;5;124;43m../vehicle_prediction\u001B[39;49m\u001B[38;5;124;43m'\u001B[39;49m\u001B[43m,\u001B[49m\u001B[43m  \u001B[49m\u001B[38;5;66;43;03m# Dossier pour enregistrer les résultats\u001B[39;49;00m\n\u001B[1;32m      7\u001B[0m \u001B[43m    \u001B[49m\u001B[43mproject_name\u001B[49m\u001B[38;5;241;43m=\u001B[39;49m\u001B[38;5;124;43m'\u001B[39;49m\u001B[38;5;124;43mvehicle_prediction\u001B[39;49m\u001B[38;5;124;43m'\u001B[39;49m\n\u001B[1;32m      8\u001B[0m \u001B[43m)\u001B[49m\n\u001B[1;32m     10\u001B[0m \u001B[38;5;66;03m# Callback pour enregistrer les résultats dans MLflow\u001B[39;00m\n\u001B[1;32m     11\u001B[0m mlflow_callback \u001B[38;5;241m=\u001B[39m tf\u001B[38;5;241m.\u001B[39mkeras\u001B[38;5;241m.\u001B[39mcallbacks\u001B[38;5;241m.\u001B[39mLambdaCallback(\n\u001B[1;32m     12\u001B[0m     on_epoch_end\u001B[38;5;241m=\u001B[39m\u001B[38;5;28;01mlambda\u001B[39;00m epoch, logs: mlflow\u001B[38;5;241m.\u001B[39mlog_metrics(logs, step\u001B[38;5;241m=\u001B[39mepoch)\n\u001B[1;32m     13\u001B[0m )\n",
      "File \u001B[0;32m~/DataspellProjects/PFE/venv/lib/python3.12/site-packages/keras_tuner/src/tuners/hyperband.py:420\u001B[0m, in \u001B[0;36mHyperband.__init__\u001B[0;34m(self, hypermodel, objective, max_epochs, factor, hyperband_iterations, seed, hyperparameters, tune_new_entries, allow_new_entries, max_retries_per_trial, max_consecutive_failed_trials, **kwargs)\u001B[0m\n\u001B[1;32m    393\u001B[0m \u001B[38;5;28;01mdef\u001B[39;00m \u001B[38;5;21m__init__\u001B[39m(\n\u001B[1;32m    394\u001B[0m     \u001B[38;5;28mself\u001B[39m,\n\u001B[1;32m    395\u001B[0m     hypermodel\u001B[38;5;241m=\u001B[39m\u001B[38;5;28;01mNone\u001B[39;00m,\n\u001B[0;32m   (...)\u001B[0m\n\u001B[1;32m    406\u001B[0m     \u001B[38;5;241m*\u001B[39m\u001B[38;5;241m*\u001B[39mkwargs,\n\u001B[1;32m    407\u001B[0m ):\n\u001B[1;32m    408\u001B[0m     oracle \u001B[38;5;241m=\u001B[39m HyperbandOracle(\n\u001B[1;32m    409\u001B[0m         objective,\n\u001B[1;32m    410\u001B[0m         max_epochs\u001B[38;5;241m=\u001B[39mmax_epochs,\n\u001B[0;32m   (...)\u001B[0m\n\u001B[1;32m    418\u001B[0m         max_consecutive_failed_trials\u001B[38;5;241m=\u001B[39mmax_consecutive_failed_trials,\n\u001B[1;32m    419\u001B[0m     )\n\u001B[0;32m--> 420\u001B[0m     \u001B[38;5;28;43msuper\u001B[39;49m\u001B[43m(\u001B[49m\u001B[43m)\u001B[49m\u001B[38;5;241;43m.\u001B[39;49m\u001B[38;5;21;43m__init__\u001B[39;49m\u001B[43m(\u001B[49m\u001B[43moracle\u001B[49m\u001B[38;5;241;43m=\u001B[39;49m\u001B[43moracle\u001B[49m\u001B[43m,\u001B[49m\u001B[43m \u001B[49m\u001B[43mhypermodel\u001B[49m\u001B[38;5;241;43m=\u001B[39;49m\u001B[43mhypermodel\u001B[49m\u001B[43m,\u001B[49m\u001B[43m \u001B[49m\u001B[38;5;241;43m*\u001B[39;49m\u001B[38;5;241;43m*\u001B[39;49m\u001B[43mkwargs\u001B[49m\u001B[43m)\u001B[49m\n",
      "File \u001B[0;32m~/DataspellProjects/PFE/venv/lib/python3.12/site-packages/keras_tuner/src/engine/tuner.py:122\u001B[0m, in \u001B[0;36mTuner.__init__\u001B[0;34m(self, oracle, hypermodel, max_model_size, optimizer, loss, metrics, distribution_strategy, directory, project_name, logger, tuner_id, overwrite, executions_per_trial, **kwargs)\u001B[0m\n\u001B[1;32m    114\u001B[0m \u001B[38;5;28;01mif\u001B[39;00m hypermodel \u001B[38;5;129;01mis\u001B[39;00m \u001B[38;5;28;01mNone\u001B[39;00m \u001B[38;5;129;01mand\u001B[39;00m \u001B[38;5;28mself\u001B[39m\u001B[38;5;241m.\u001B[39m\u001B[38;5;18m__class__\u001B[39m\u001B[38;5;241m.\u001B[39mrun_trial \u001B[38;5;129;01mis\u001B[39;00m Tuner\u001B[38;5;241m.\u001B[39mrun_trial:\n\u001B[1;32m    115\u001B[0m     \u001B[38;5;28;01mraise\u001B[39;00m \u001B[38;5;167;01mValueError\u001B[39;00m(\n\u001B[1;32m    116\u001B[0m         \u001B[38;5;124m\"\u001B[39m\u001B[38;5;124mReceived `hypermodel=None`. We only allow not specifying \u001B[39m\u001B[38;5;124m\"\u001B[39m\n\u001B[1;32m    117\u001B[0m         \u001B[38;5;124m\"\u001B[39m\u001B[38;5;124m`hypermodel` if the user defines the search space in \u001B[39m\u001B[38;5;124m\"\u001B[39m\n\u001B[1;32m    118\u001B[0m         \u001B[38;5;124m\"\u001B[39m\u001B[38;5;124m`Tuner.run_trial()` by subclassing a `Tuner` class without \u001B[39m\u001B[38;5;124m\"\u001B[39m\n\u001B[1;32m    119\u001B[0m         \u001B[38;5;124m\"\u001B[39m\u001B[38;5;124musing a `HyperModel` instance.\u001B[39m\u001B[38;5;124m\"\u001B[39m\n\u001B[1;32m    120\u001B[0m     )\n\u001B[0;32m--> 122\u001B[0m \u001B[38;5;28;43msuper\u001B[39;49m\u001B[43m(\u001B[49m\u001B[43m)\u001B[49m\u001B[38;5;241;43m.\u001B[39;49m\u001B[38;5;21;43m__init__\u001B[39;49m\u001B[43m(\u001B[49m\n\u001B[1;32m    123\u001B[0m \u001B[43m    \u001B[49m\u001B[43moracle\u001B[49m\u001B[38;5;241;43m=\u001B[39;49m\u001B[43moracle\u001B[49m\u001B[43m,\u001B[49m\n\u001B[1;32m    124\u001B[0m \u001B[43m    \u001B[49m\u001B[43mhypermodel\u001B[49m\u001B[38;5;241;43m=\u001B[39;49m\u001B[43mhypermodel\u001B[49m\u001B[43m,\u001B[49m\n\u001B[1;32m    125\u001B[0m \u001B[43m    \u001B[49m\u001B[43mdirectory\u001B[49m\u001B[38;5;241;43m=\u001B[39;49m\u001B[43mdirectory\u001B[49m\u001B[43m,\u001B[49m\n\u001B[1;32m    126\u001B[0m \u001B[43m    \u001B[49m\u001B[43mproject_name\u001B[49m\u001B[38;5;241;43m=\u001B[39;49m\u001B[43mproject_name\u001B[49m\u001B[43m,\u001B[49m\n\u001B[1;32m    127\u001B[0m \u001B[43m    \u001B[49m\u001B[43mlogger\u001B[49m\u001B[38;5;241;43m=\u001B[39;49m\u001B[43mlogger\u001B[49m\u001B[43m,\u001B[49m\n\u001B[1;32m    128\u001B[0m \u001B[43m    \u001B[49m\u001B[43moverwrite\u001B[49m\u001B[38;5;241;43m=\u001B[39;49m\u001B[43moverwrite\u001B[49m\u001B[43m,\u001B[49m\n\u001B[1;32m    129\u001B[0m \u001B[43m    \u001B[49m\u001B[38;5;241;43m*\u001B[39;49m\u001B[38;5;241;43m*\u001B[39;49m\u001B[43mkwargs\u001B[49m\u001B[43m,\u001B[49m\n\u001B[1;32m    130\u001B[0m \u001B[43m\u001B[49m\u001B[43m)\u001B[49m\n\u001B[1;32m    132\u001B[0m \u001B[38;5;28mself\u001B[39m\u001B[38;5;241m.\u001B[39mmax_model_size \u001B[38;5;241m=\u001B[39m max_model_size\n\u001B[1;32m    133\u001B[0m \u001B[38;5;28mself\u001B[39m\u001B[38;5;241m.\u001B[39moptimizer \u001B[38;5;241m=\u001B[39m optimizer\n",
      "File \u001B[0;32m~/DataspellProjects/PFE/venv/lib/python3.12/site-packages/keras_tuner/src/engine/base_tuner.py:132\u001B[0m, in \u001B[0;36mBaseTuner.__init__\u001B[0;34m(self, oracle, hypermodel, directory, project_name, overwrite, **kwargs)\u001B[0m\n\u001B[1;32m    129\u001B[0m     \u001B[38;5;28mself\u001B[39m\u001B[38;5;241m.\u001B[39mreload()\n\u001B[1;32m    130\u001B[0m \u001B[38;5;28;01melse\u001B[39;00m:\n\u001B[1;32m    131\u001B[0m     \u001B[38;5;66;03m# Only populate initial space if not reloading.\u001B[39;00m\n\u001B[0;32m--> 132\u001B[0m     \u001B[38;5;28;43mself\u001B[39;49m\u001B[38;5;241;43m.\u001B[39;49m\u001B[43m_populate_initial_space\u001B[49m\u001B[43m(\u001B[49m\u001B[43m)\u001B[49m\n\u001B[1;32m    134\u001B[0m \u001B[38;5;66;03m# Run in distributed mode.\u001B[39;00m\n\u001B[1;32m    135\u001B[0m \u001B[38;5;28;01mif\u001B[39;00m dist_utils\u001B[38;5;241m.\u001B[39mhas_chief_oracle() \u001B[38;5;129;01mand\u001B[39;00m \u001B[38;5;129;01mnot\u001B[39;00m dist_utils\u001B[38;5;241m.\u001B[39mis_chief_oracle():\n\u001B[1;32m    136\u001B[0m     \u001B[38;5;66;03m# Proxies requests to the chief oracle.\u001B[39;00m\n\u001B[1;32m    137\u001B[0m     \u001B[38;5;66;03m# Avoid import at the top, to avoid inconsistent protobuf versions.\u001B[39;00m\n",
      "File \u001B[0;32m~/DataspellProjects/PFE/venv/lib/python3.12/site-packages/keras_tuner/src/engine/base_tuner.py:192\u001B[0m, in \u001B[0;36mBaseTuner._populate_initial_space\u001B[0;34m(self)\u001B[0m\n\u001B[1;32m    190\u001B[0m \u001B[38;5;28mself\u001B[39m\u001B[38;5;241m.\u001B[39mhypermodel\u001B[38;5;241m.\u001B[39mdeclare_hyperparameters(hp)\n\u001B[1;32m    191\u001B[0m \u001B[38;5;28mself\u001B[39m\u001B[38;5;241m.\u001B[39moracle\u001B[38;5;241m.\u001B[39mupdate_space(hp)\n\u001B[0;32m--> 192\u001B[0m \u001B[38;5;28;43mself\u001B[39;49m\u001B[38;5;241;43m.\u001B[39;49m\u001B[43m_activate_all_conditions\u001B[49m\u001B[43m(\u001B[49m\u001B[43m)\u001B[49m\n",
      "File \u001B[0;32m~/DataspellProjects/PFE/venv/lib/python3.12/site-packages/keras_tuner/src/engine/base_tuner.py:149\u001B[0m, in \u001B[0;36mBaseTuner._activate_all_conditions\u001B[0;34m(self)\u001B[0m\n\u001B[1;32m    147\u001B[0m hp \u001B[38;5;241m=\u001B[39m \u001B[38;5;28mself\u001B[39m\u001B[38;5;241m.\u001B[39moracle\u001B[38;5;241m.\u001B[39mget_space()\n\u001B[1;32m    148\u001B[0m \u001B[38;5;28;01mwhile\u001B[39;00m \u001B[38;5;28;01mTrue\u001B[39;00m:\n\u001B[0;32m--> 149\u001B[0m     \u001B[38;5;28;43mself\u001B[39;49m\u001B[38;5;241;43m.\u001B[39;49m\u001B[43mhypermodel\u001B[49m\u001B[38;5;241;43m.\u001B[39;49m\u001B[43mbuild\u001B[49m\u001B[43m(\u001B[49m\u001B[43mhp\u001B[49m\u001B[43m)\u001B[49m\n\u001B[1;32m    150\u001B[0m     \u001B[38;5;28mself\u001B[39m\u001B[38;5;241m.\u001B[39moracle\u001B[38;5;241m.\u001B[39mupdate_space(hp)\n\u001B[1;32m    152\u001B[0m     \u001B[38;5;66;03m# Update the recorded scopes.\u001B[39;00m\n",
      "File \u001B[0;32m~/DataspellProjects/PFE/venv/lib/python3.12/site-packages/keras/src/utils/traceback_utils.py:122\u001B[0m, in \u001B[0;36mfilter_traceback.<locals>.error_handler\u001B[0;34m(*args, **kwargs)\u001B[0m\n\u001B[1;32m    119\u001B[0m     filtered_tb \u001B[38;5;241m=\u001B[39m _process_traceback_frames(e\u001B[38;5;241m.\u001B[39m__traceback__)\n\u001B[1;32m    120\u001B[0m     \u001B[38;5;66;03m# To get the full stack trace, call:\u001B[39;00m\n\u001B[1;32m    121\u001B[0m     \u001B[38;5;66;03m# `keras.config.disable_traceback_filtering()`\u001B[39;00m\n\u001B[0;32m--> 122\u001B[0m     \u001B[38;5;28;01mraise\u001B[39;00m e\u001B[38;5;241m.\u001B[39mwith_traceback(filtered_tb) \u001B[38;5;28;01mfrom\u001B[39;00m \u001B[38;5;28;01mNone\u001B[39;00m\n\u001B[1;32m    123\u001B[0m \u001B[38;5;28;01mfinally\u001B[39;00m:\n\u001B[1;32m    124\u001B[0m     \u001B[38;5;28;01mdel\u001B[39;00m filtered_tb\n",
      "File \u001B[0;32m~/DataspellProjects/PFE/venv/lib/python3.12/site-packages/keras/src/layers/layer.py:808\u001B[0m, in \u001B[0;36mLayer.__call__\u001B[0;34m(self, *args, **kwargs)\u001B[0m\n\u001B[1;32m    802\u001B[0m     \u001B[38;5;28;01mfor\u001B[39;00m arg \u001B[38;5;129;01min\u001B[39;00m tree\u001B[38;5;241m.\u001B[39mflatten(args):\n\u001B[1;32m    803\u001B[0m         \u001B[38;5;28;01mif\u001B[39;00m (\n\u001B[1;32m    804\u001B[0m             \u001B[38;5;129;01mnot\u001B[39;00m \u001B[38;5;28misinstance\u001B[39m(arg, KerasTensor)\n\u001B[1;32m    805\u001B[0m             \u001B[38;5;129;01mand\u001B[39;00m \u001B[38;5;129;01mnot\u001B[39;00m backend\u001B[38;5;241m.\u001B[39mis_tensor(arg)\n\u001B[1;32m    806\u001B[0m             \u001B[38;5;129;01mand\u001B[39;00m arg \u001B[38;5;129;01mis\u001B[39;00m \u001B[38;5;129;01mnot\u001B[39;00m \u001B[38;5;28;01mNone\u001B[39;00m\n\u001B[1;32m    807\u001B[0m         ):\n\u001B[0;32m--> 808\u001B[0m             \u001B[38;5;28;01mraise\u001B[39;00m \u001B[38;5;167;01mValueError\u001B[39;00m(\n\u001B[1;32m    809\u001B[0m                 \u001B[38;5;124m\"\u001B[39m\u001B[38;5;124mOnly input tensors may be passed as \u001B[39m\u001B[38;5;124m\"\u001B[39m\n\u001B[1;32m    810\u001B[0m                 \u001B[38;5;124m\"\u001B[39m\u001B[38;5;124mpositional arguments. The following argument value \u001B[39m\u001B[38;5;124m\"\u001B[39m\n\u001B[1;32m    811\u001B[0m                 \u001B[38;5;124mf\u001B[39m\u001B[38;5;124m\"\u001B[39m\u001B[38;5;124mshould be passed as a keyword argument: \u001B[39m\u001B[38;5;132;01m{\u001B[39;00marg\u001B[38;5;132;01m}\u001B[39;00m\u001B[38;5;124m \u001B[39m\u001B[38;5;124m\"\u001B[39m\n\u001B[1;32m    812\u001B[0m                 \u001B[38;5;124mf\u001B[39m\u001B[38;5;124m\"\u001B[39m\u001B[38;5;124m(of type \u001B[39m\u001B[38;5;132;01m{\u001B[39;00m\u001B[38;5;28mtype\u001B[39m(arg)\u001B[38;5;132;01m}\u001B[39;00m\u001B[38;5;124m)\u001B[39m\u001B[38;5;124m\"\u001B[39m\n\u001B[1;32m    813\u001B[0m             )\n\u001B[1;32m    815\u001B[0m \u001B[38;5;66;03m# Caches info about `call()` signature, args, kwargs.\u001B[39;00m\n\u001B[1;32m    816\u001B[0m call_spec \u001B[38;5;241m=\u001B[39m CallSpec(\u001B[38;5;28mself\u001B[39m\u001B[38;5;241m.\u001B[39m_call_signature, args, kwargs)\n",
      "\u001B[0;31mValueError\u001B[0m: Only input tensors may be passed as positional arguments. The following argument value should be passed as a keyword argument: <keras_tuner.src.engine.hyperparameters.hyperparameters.HyperParameters object at 0x1503c75f0> (of type <class 'keras_tuner.src.engine.hyperparameters.hyperparameters.HyperParameters'>)"
     ]
    }
   ],
   "execution_count": 47
  },
  {
   "metadata": {},
   "cell_type": "markdown",
   "source": "#### 2.2 Entrainement du model",
   "id": "ec1657b2efeb32ed"
  },
  {
   "metadata": {},
   "cell_type": "code",
   "source": [
    "# Construisez le modèle avec les hyperparamètres optimaux et entraînez-le sur les données de 50 époques\n",
    "model = tuner.hypermodel.build(best_hps)\n",
    "history = model.fit(train_dataset, epochs=epochs, validation_data=val_dataset, verbose=1)"
   ],
   "id": "3324075a9d212550",
   "outputs": [],
   "execution_count": null
  },
  {
   "metadata": {},
   "cell_type": "code",
   "source": [
    "val_acc_per_epoch = history.history['val_loss']\n",
    "best_epoch = val_acc_per_epoch.index(max(val_acc_per_epoch)) + 1\n",
    "print('Best epoch: %d' % (best_epoch,))"
   ],
   "id": "ef35de79ffdedf6d",
   "outputs": [],
   "execution_count": null
  },
  {
   "metadata": {},
   "cell_type": "markdown",
   "source": "#### Réinstanciez l'hypermodèle et entraînez-le avec le nombre optimal d'époques d'en haut.",
   "id": "85c3bb9c4b4ab0a0"
  },
  {
   "metadata": {},
   "cell_type": "code",
   "source": [
    "hyper_model = tuner.hypermodel.build(best_hps)\n",
    "hyper_model = model.fit(train_dataset, epochs=best_epoch, validation_data=val_dataset)"
   ],
   "id": "39d73e8a7e64a8ca",
   "outputs": [],
   "execution_count": null
  },
  {
   "metadata": {},
   "cell_type": "markdown",
   "source": "#### Evaluation du Modele",
   "id": "8d6cc6ca9749398e"
  },
  {
   "metadata": {},
   "cell_type": "code",
   "source": [
    "eval_result = hyper_model.evaluate(test_dataset)\n",
    "print(\"[test loss, test loss]:\", eval_result)"
   ],
   "id": "33d65a411fd58e0a",
   "outputs": [],
   "execution_count": null
  },
  {
   "metadata": {},
   "cell_type": "markdown",
   "source": "##### Suivi des métriques personnalisées",
   "id": "ff6be05f44abb61b"
  },
  {
   "metadata": {},
   "cell_type": "code",
   "source": [
    "# Suivi des métriques personnalisées\n",
    "mlflow.log_param(\"batch_size\", batch_size)\n",
    "mlflow.log_metric(\"final_loss\", model.evaluate(test_dataset))"
   ],
   "id": "339750444d69036c",
   "outputs": [],
   "execution_count": null
  },
  {
   "metadata": {},
   "cell_type": "markdown",
   "source": "#### Enregistrer le modèle dans MLflow",
   "id": "4f97ba4b1aa2c243"
  },
  {
   "metadata": {},
   "cell_type": "code",
   "source": [
    "# Enregistrer le modèle dans MLflow\n",
    "# mlflow.tensorflow.log_model(model, \"model\")\n",
    "# mlflow.tensorflow.log_model(hyper_model, \"hyper_model\")"
   ],
   "id": "4c37c7169a100168",
   "outputs": [],
   "execution_count": null
  },
  {
   "metadata": {},
   "cell_type": "markdown",
   "source": "#### 2.3  Visualisation du Loss",
   "id": "c7cc09590d4e9e2b"
  },
  {
   "metadata": {},
   "cell_type": "code",
   "source": "",
   "id": "7f5640c34975c020",
   "outputs": [],
   "execution_count": null
  },
  {
   "metadata": {},
   "cell_type": "code",
   "source": "",
   "id": "776e3a1f603af4e7",
   "outputs": [],
   "execution_count": null
  },
  {
   "metadata": {},
   "cell_type": "markdown",
   "source": "#### 2. 4 Evaluation du model",
   "id": "7e14a8e40917dd7d"
  },
  {
   "metadata": {},
   "cell_type": "code",
   "source": "test = model.evaluate(X_test, y_test)",
   "id": "42b46e45ad369f96",
   "outputs": [],
   "execution_count": null
  },
  {
   "metadata": {},
   "cell_type": "code",
   "source": "test",
   "id": "3c41903dbaa46d91",
   "outputs": [],
   "execution_count": null
  },
  {
   "metadata": {},
   "cell_type": "markdown",
   "source": "#### Prédiction des Valeurs",
   "id": "5b9fb02b8c78f5a6"
  },
  {
   "metadata": {},
   "cell_type": "code",
   "source": "y_pred = model.predict(X_test)",
   "id": "4ad05f2235a5554",
   "outputs": [],
   "execution_count": null
  },
  {
   "metadata": {},
   "cell_type": "code",
   "source": "y_pred.shape",
   "id": "f899dd58a363e983",
   "outputs": [],
   "execution_count": null
  }
 ],
 "metadata": {
  "kernelspec": {
   "display_name": "Python 3",
   "language": "python",
   "name": "python3"
  },
  "language_info": {
   "codemirror_mode": {
    "name": "ipython",
    "version": 2
   },
   "file_extension": ".py",
   "mimetype": "text/x-python",
   "name": "python",
   "nbconvert_exporter": "python",
   "pygments_lexer": "ipython2",
   "version": "2.7.6"
  }
 },
 "nbformat": 4,
 "nbformat_minor": 5
}
