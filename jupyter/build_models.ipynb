{
 "cells": [
  {
   "metadata": {},
   "cell_type": "markdown",
   "source": "# Prévision des prix des voitures",
   "id": "28b80ab551970a6c"
  },
  {
   "metadata": {},
   "cell_type": "markdown",
   "source": "### 1.4 Importation de bibliothèques",
   "id": "45d6aefdef4c39ac"
  },
  {
   "metadata": {},
   "cell_type": "code",
   "outputs": [],
   "execution_count": null,
   "source": [
    "import tensorflow as tf\n",
    "import pandas as pd\n",
    "import seaborn as sns"
   ],
   "id": "f06922d58012397f"
  },
  {
   "metadata": {},
   "cell_type": "markdown",
   "source": "### 1.5 Chargement des données",
   "id": "e6821d57aecf2ad"
  },
  {
   "metadata": {},
   "cell_type": "code",
   "outputs": [],
   "execution_count": null,
   "source": "",
   "id": "43c09a36e1df3322"
  }
 ],
 "metadata": {
  "kernelspec": {
   "display_name": "Python 3",
   "language": "python",
   "name": "python3"
  },
  "language_info": {
   "codemirror_mode": {
    "name": "ipython",
    "version": 2
   },
   "file_extension": ".py",
   "mimetype": "text/x-python",
   "name": "python",
   "nbconvert_exporter": "python",
   "pygments_lexer": "ipython2",
   "version": "2.7.6"
  }
 },
 "nbformat": 4,
 "nbformat_minor": 5
}
